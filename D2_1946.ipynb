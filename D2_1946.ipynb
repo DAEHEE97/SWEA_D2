{
 "cells": [
  {
   "cell_type": "markdown",
   "metadata": {},
   "source": [
    "# 1946. 간단한 압축 풀기\n",
    "\n",
    "\n",
    "원본 문서는 너비가 10인 여러 줄의 문자열로 이루어져 있다.\n",
    "\n",
    "문자열은 마지막 줄을 제외하고 빈 공간 없이 알파벳으로 채워져 있고 마지막 줄은 왼쪽부터 채워져 있다.\n",
    "\n",
    "이 문서를 압축한 문서는 알파벳과 그 알파벳의 연속된 개수로 이루어진 쌍들이 나열되어 있다. \n",
    "(예 : A 5   AAAAA)\n",
    "\n",
    "압축된 문서를 입력 받아 원본 문서를 만드는 프로그램을 작성하시오.\n",
    "\n",
    "## [예제]\n",
    "압축된 문서의 내용\n",
    "\n",
    "A 10\n",
    "B 7\n",
    "C 5\n",
    "\n",
    "\n",
    "압축을 풀었을 때 원본 문서의 내용\n",
    "\n",
    "AAAAAAAAAA\n",
    "BBBBBBBCCC\n",
    "CC\n",
    "\n",
    "\n",
    "## [제약사항]\n",
    "\n",
    "1. 압축된 문서의 알파벳과 숫자 쌍의 개수 N은1이상 10이하의 정수이다. (1 ≤ N ≤ 10)\n",
    "\n",
    "2. 주어지는 알파벳 Ci는 A~Z의 대문자이다. (i는 줄의 번호로 1~N까지의 수)\n",
    "\n",
    "3. 알파벳의 연속된 개수로 주어지는 수 Ki는 1이상 20이하의 정수이다. (1 ≤ Ki ≤ 20, i는 줄의 번호로 1~N까지의 수)\n",
    "\n",
    "4. 원본 문서의 너비는 10으로 고정이다.\n",
    "\n",
    "\n",
    "## [입력]\n",
    "\n",
    "가장 첫 줄에는 테스트 케이스의 개수 T가 주어지고, 그 아래로 각 테스트 케이스가 주어진다.\n",
    "\n",
    "각 테스트 케이스에는 N이 주어지고 다음 줄부터 N+1줄까지 Ci와 Ki가 빈 칸을 사이에 두고 주어진다.\n",
    "\n",
    "\n",
    "## [출력]\n",
    "\n",
    "각 줄은 '#t'로 시작하고, 다음 줄부터 원본 문서를 출력한다.\n",
    "\n",
    "(t는 테스트 케이스의 번호를 의미하며 1부터 시작한다.)\n"
   ]
  },
  {
   "cell_type": "markdown",
   "metadata": {},
   "source": [
    "## MEMO\n",
    "\n",
    "- 10개씩 끊어서 출력, 10개 출력후, print()\n",
    "\n",
    "- 케이스가 여러개인 경우, 입력 시 공백이 필요 할 수도 > 테스트 진행\n"
   ]
  },
  {
   "cell_type": "markdown",
   "metadata": {},
   "source": [
    "---"
   ]
  },
  {
   "cell_type": "code",
   "execution_count": 21,
   "metadata": {},
   "outputs": [
    {
     "name": "stdout",
     "output_type": "stream",
     "text": [
      "2\n",
      "3\n",
      "A 10\n",
      "B 7\n",
      "C 5\n",
      "#1\n",
      "AAAAAAAAAA\n",
      "BBBBBBBCCC\n",
      "CC\n",
      "3\n",
      "A 10\n",
      "B 7\n",
      "C 5\n",
      "#2\n",
      "AAAAAAAAAA\n",
      "BBBBBBBCCC\n",
      "CC\n"
     ]
    }
   ],
   "source": [
    "T = int(input())\n",
    "\n",
    "for t in range(T):\n",
    "\n",
    "    N = int(input())\n",
    "\n",
    "    lst_all = []\n",
    "\n",
    "    for i in range(N):\n",
    "\n",
    "        c,n = input().split()\n",
    "\n",
    "        for _ in range(int(n)):\n",
    "            lst_all.append(c)\n",
    "\n",
    "    print('#{0}'.format(t+1))\n",
    "    \n",
    "    for i in range(len(lst_all)):\n",
    "        \n",
    "        print(lst_all[i], end = '')\n",
    "        \n",
    "        if (i %10 == 9):\n",
    "            print()\n",
    "    \n",
    "    print()\n",
    "\n",
    "    \n"
   ]
  }
 ],
 "metadata": {
  "hide_input": false,
  "kernelspec": {
   "display_name": "Python 3",
   "language": "python",
   "name": "python3"
  },
  "language_info": {
   "codemirror_mode": {
    "name": "ipython",
    "version": 3
   },
   "file_extension": ".py",
   "mimetype": "text/x-python",
   "name": "python",
   "nbconvert_exporter": "python",
   "pygments_lexer": "ipython3",
   "version": "3.8.5"
  },
  "toc": {
   "base_numbering": 1,
   "nav_menu": {},
   "number_sections": true,
   "sideBar": true,
   "skip_h1_title": false,
   "title_cell": "Table of Contents",
   "title_sidebar": "Contents",
   "toc_cell": false,
   "toc_position": {},
   "toc_section_display": true,
   "toc_window_display": false
  }
 },
 "nbformat": 4,
 "nbformat_minor": 4
}
