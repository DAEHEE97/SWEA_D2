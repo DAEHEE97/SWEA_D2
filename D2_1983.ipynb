{
 "cells": [
  {
   "cell_type": "markdown",
   "metadata": {},
   "source": [
    "# 1983. 조교의 성적 매기기\n",
    "\n",
    "\n",
    "학기가 끝나고, 학생들의 점수로 학점을 계산중이다.\n",
    "\n",
    "학점은 상대평가로 주어지는데, 총 10개의 평점이 있다.\n",
    "\n",
    "\n",
    "학점은 학생들이 응시한 중간/기말고사 점수 결과 및 과제 점수가 반영한다.\n",
    "\n",
    "각각 아래 비율로 반영된다.\n",
    "\n",
    "\n",
    "- 10 개의 평점을 총점이 높은 순서대로 부여하는데,\n",
    "\n",
    "- 각각의 평점은 같은 비율로 부여할 수 있다.\n",
    "\n",
    "- 예를 들어, N 명의 학생이 있을 경우 N/10 명의 학생들에게 동일한 평점을 부여할 수 있다.\n",
    "    - 20명의 학생 > 2명의 학생들에게 동일한 평점\n",
    "    - 22명 > 제약 사항 \n",
    "\n",
    "입력으로 각각의 학생들의 중간, 기말, 과제 점수가 주어지고,\n",
    "\n",
    "학점을 알고싶은 K 번째 학생의 번호가 주어졌을 때,\n",
    "\n",
    "K 번째 학생의 학점을 출력하는 프로그램을 작성하라.\n",
    "\n",
    "\n",
    "## [제약사항]\n",
    "\n",
    "1. N은 항상 10의 배수이며, 10이상 100이하의 정수이다. (10 ≤ N ≤ 100)\n",
    "\n",
    "2. K는 1 이상 N 이하의 정수이다. (1 ≤ K ≤ N)\n",
    "\n",
    "3. K 번째 학생의 총점과 다른 학생의 총점이 동일한 경우는 입력으로 주어지지 않는다.\n",
    "\n",
    "\n",
    "## [입력]\n",
    "\n",
    "입력은 첫 줄에 총 테스트 케이스의 개수 T가 온다.\n",
    "\n",
    "다음 줄부터 각 테스트 케이스가 주어진다.\n",
    "\n",
    "테스트 케이스의 첫 번째 줄은 학생수 N 과, 학점을 알고싶은 학생의 번호 K 가 주어진다.\n",
    "\n",
    "테스트 케이스 두 번째 줄 부터 각각의 학생이 받은 시험 및 과제 점수가 주어진다.\n",
    "\n",
    "\n",
    "## [출력]\n",
    "\n",
    "테스트 케이스 t에 대한 결과는 “#t”을 찍고, 한 칸 띄고, 정답을 출력한다.\n",
    "\n",
    "(t는 테스트 케이스의 번호를 의미하며 1부터 시작한다.)\n"
   ]
  },
  {
   "cell_type": "markdown",
   "metadata": {},
   "source": [
    "---"
   ]
  },
  {
   "cell_type": "markdown",
   "metadata": {},
   "source": [
    "## MEMO\n",
    "\n",
    "- grade -> new_grade \n",
    "\n",
    "\n",
    "- k K, socre score 오타\n",
    "\n",
    "\n",
    "- `= sorted()` error \n",
    "\n",
    "\n",
    "- `sort(reverse=True)` 내림차순"
   ]
  },
  {
   "cell_type": "markdown",
   "metadata": {},
   "source": [
    "---"
   ]
  },
  {
   "cell_type": "code",
   "execution_count": 3,
   "metadata": {},
   "outputs": [
    {
     "name": "stdout",
     "output_type": "stream",
     "text": [
      "1\n",
      "10 2\n",
      "87 59 88\n",
      "99 94 78\n",
      "94 86 86\n",
      "99 100 99\n",
      "69 76 70\n",
      "76 89 96\n",
      "98 95 96\n",
      "74 69 60\n",
      "98 84 67\n",
      "85 84 91\n",
      "#1 A-\n"
     ]
    }
   ],
   "source": [
    "grade = ['A+','A0','A-','B+','B0','B-','C+','C0','C-','D0']\n",
    "\n",
    "\n",
    "T = int(input()) # test case \n",
    "\n",
    "for t in range(T):\n",
    "    \n",
    "    new_grade = []\n",
    "    score_total = []\n",
    "    \n",
    "    N, K = map(int,input().split()) # N 은 10의 배수 , K 등 \n",
    "    \n",
    "    e = N // 10\n",
    "    \n",
    "    for i in grade:\n",
    "        for _ in range(e):\n",
    "            new_grade.append(i)\n",
    "            \n",
    "    \n",
    "    for _ in range(N):\n",
    "        lst = list(map(int,input().split())) # 중간 기말 과제\n",
    "        score_total.append(lst[0]*0.35+lst[1]*0.45+lst[2]*0.2)\n",
    "    \n",
    "    \n",
    "    score = score_total[K-1] # k번째 학생의 점수 \n",
    "    \n",
    "    score_total.sort(reverse=True) # 내림차순 정렬   \n",
    "    \n",
    "    score_idx = score_total.index(score) # k번째 학생의 토탈 점수가 내림차순으로정렬시 idx 2 > 3등, idx 5 > 6등 \n",
    "    \n",
    "    print('#{0} {1}'.format(t+1,new_grade[score_idx]))\n",
    "\n",
    "\n",
    "\n"
   ]
  }
 ],
 "metadata": {
  "hide_input": false,
  "kernelspec": {
   "display_name": "Python 3",
   "language": "python",
   "name": "python3"
  },
  "language_info": {
   "codemirror_mode": {
    "name": "ipython",
    "version": 3
   },
   "file_extension": ".py",
   "mimetype": "text/x-python",
   "name": "python",
   "nbconvert_exporter": "python",
   "pygments_lexer": "ipython3",
   "version": "3.8.5"
  },
  "toc": {
   "base_numbering": 1,
   "nav_menu": {},
   "number_sections": true,
   "sideBar": true,
   "skip_h1_title": false,
   "title_cell": "Table of Contents",
   "title_sidebar": "Contents",
   "toc_cell": false,
   "toc_position": {},
   "toc_section_display": true,
   "toc_window_display": false
  }
 },
 "nbformat": 4,
 "nbformat_minor": 4
}
