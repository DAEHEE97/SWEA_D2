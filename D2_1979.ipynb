{
 "cells": [
  {
   "cell_type": "markdown",
   "metadata": {},
   "source": [
    "# 1979. 어디에 단어가 들어갈 수 있을까\n",
    "\n",
    "N X N 크기의 단어 퍼즐을 만들려고 한다. 입력으로 단어 퍼즐의 모양이 주어진다.\n",
    "\n",
    "주어진 퍼즐 모양에서 특정 길이 K를 갖는 단어가 들어갈 수 있는 자리의 수를 출력하는 프로그램을 작성하라.\n",
    "\n",
    "## [제약 사항]\n",
    "\n",
    "1. N은 5 이상 15 이하의 정수이다. (5 ≤ N ≤ 15)\n",
    "\n",
    "2. K는 2 이상 N 이하의 정수이다. (2 ≤ K ≤ N)\n",
    "\n",
    "\n",
    "## [입력]\n",
    "\n",
    "입력은 첫 줄에 총 테스트 케이스의 개수 T가 온다.\n",
    "\n",
    "다음 줄부터 각 테스트 케이스가 주어진다.\n",
    "\n",
    "테스트 케이스의 첫 번째 줄에는 단어 퍼즐의 가로, 세로 길이 N 과, 단어의 길이 K 가 주어진다.\n",
    "\n",
    "테스트 케이스의 두 번째 줄부터 퍼즐의 모양이 2차원 정보로 주어진다.\n",
    "\n",
    "퍼즐의 각 셀 중, 흰색 부분은 1, 검은색 부분은 0 으로 주어진다.\n",
    "\n",
    "\n",
    "## [출력]\n",
    "\n",
    "테스트 케이스 t에 대한 결과는 “#t”을 찍고, 한 칸 띄고, 정답을 출력한다.\n",
    "\n",
    "(t는 테스트 케이스의 번호를 의미하며 1부터 시작한다.)"
   ]
  },
  {
   "cell_type": "markdown",
   "metadata": {},
   "source": [
    "---"
   ]
  },
  {
   "cell_type": "markdown",
   "metadata": {},
   "source": [
    "## MEMO\n",
    "\n",
    "- 1의 길이가 남으면 안됨. ex) 1 1 1 1 안됨\n",
    "\n",
    "- 1의 갯수를 카운트하면 안됨, 연속으로 1이 이어져있어야 가능함 ex) 1 1 1 0 1 가능\n",
    "\n",
    "- 연속으로 1이 이어져 있는지 카운트 하려면, 다음 idx를 확인해봐야 하는데, 이때 idx range 오류 > zero padding으로 해결\n",
    "\n",
    "- 세로 카운트 방법 1. 세로로 그냥 카운트 2. transpose\n",
    "\n"
   ]
  },
  {
   "cell_type": "markdown",
   "metadata": {},
   "source": [
    "---"
   ]
  },
  {
   "cell_type": "code",
   "execution_count": 2,
   "metadata": {},
   "outputs": [
    {
     "name": "stdout",
     "output_type": "stream",
     "text": [
      "1\n",
      "5 3\n",
      "0 0 1 1 1\n",
      "1 1 1 1 0\n",
      "0 0 1 0 0\n",
      "0 1 1 1 1\n",
      "1 1 1 0 1\n",
      "#1 2\n"
     ]
    }
   ],
   "source": [
    "T = int(input())\n",
    "\n",
    "\n",
    "for t in range(T):\n",
    "    \n",
    "    lst = []\n",
    "    \n",
    "    N,K = map(int,input().split())\n",
    "    \n",
    "    for i in range(N):\n",
    "        lst.append(list(map(int,input().split())))\n",
    "    \n",
    "    # --- 입력\n",
    "\n",
    "    # zero padding 1\n",
    "\n",
    "    for i in range(len(lst)):\n",
    "        lst[i].append(0)\n",
    "\n",
    "    # zero padding 2\n",
    "\n",
    "    lst.append([0 for i in range(len(lst)+1)])\n",
    "    \n",
    "    # Count\n",
    "    \n",
    "    cnt = 0\n",
    "    \n",
    "    for i in range(N):\n",
    "        \n",
    "        tmp = 0\n",
    "\n",
    "        for j in range(N):\n",
    "            if lst[i][j] == 1:\n",
    "                tmp+=1\n",
    "            else:\n",
    "                tmp = 0\n",
    "\n",
    "            if tmp == K and lst[i][j+1] == 0:\n",
    "                cnt +=1\n",
    "                tmp = 0\n",
    "                \n",
    "    \n",
    "    for i in range(N):\n",
    "        \n",
    "        tmp = 0\n",
    "\n",
    "        for j in range(N):\n",
    "            if lst[j][i] == 1:\n",
    "                tmp+=1\n",
    "            else:\n",
    "                tmp = 0\n",
    "\n",
    "            if tmp == K and lst[j+1][i] == 0:\n",
    "                cnt +=1\n",
    "                tmp = 0\n",
    "                \n",
    "                \n",
    "    # Output\n",
    "    \n",
    "    print('#{0} {1}'.format(t+1,cnt))\n",
    "                \n",
    "    "
   ]
  },
  {
   "cell_type": "markdown",
   "metadata": {},
   "source": [
    "---"
   ]
  },
  {
   "cell_type": "code",
   "execution_count": 5,
   "metadata": {},
   "outputs": [],
   "source": [
    "lst_2 = [[0, 0, 1, 1, 1],\n",
    " [1, 1, 1, 1, 0],\n",
    " [0, 0, 1, 0, 0],\n",
    " [0, 1, 1, 1, 1],\n",
    " [1, 1, 1, 0, 1]]"
   ]
  },
  {
   "cell_type": "code",
   "execution_count": 6,
   "metadata": {},
   "outputs": [
    {
     "name": "stdout",
     "output_type": "stream",
     "text": [
      "3\n",
      "4\n",
      "1\n",
      "4\n",
      "4\n"
     ]
    }
   ],
   "source": [
    "for i in range(N):\n",
    "    s = 0\n",
    "    \n",
    "    for j in range(N):\n",
    "        s+=lst_2[i][j]\n",
    "    \n",
    "    print(s)\n",
    "    \n"
   ]
  },
  {
   "cell_type": "code",
   "execution_count": 7,
   "metadata": {},
   "outputs": [
    {
     "name": "stdout",
     "output_type": "stream",
     "text": [
      "2\n",
      "3\n",
      "5\n",
      "3\n",
      "3\n"
     ]
    }
   ],
   "source": [
    "for i in range(N):\n",
    "    s = 0\n",
    "    \n",
    "    for j in range(N):\n",
    "        s+=lst_2[j][i]\n",
    "    \n",
    "    print(s)"
   ]
  }
 ],
 "metadata": {
  "hide_input": false,
  "kernelspec": {
   "display_name": "Python 3",
   "language": "python",
   "name": "python3"
  },
  "language_info": {
   "codemirror_mode": {
    "name": "ipython",
    "version": 3
   },
   "file_extension": ".py",
   "mimetype": "text/x-python",
   "name": "python",
   "nbconvert_exporter": "python",
   "pygments_lexer": "ipython3",
   "version": "3.8.5"
  },
  "toc": {
   "base_numbering": 1,
   "nav_menu": {},
   "number_sections": true,
   "sideBar": true,
   "skip_h1_title": false,
   "title_cell": "Table of Contents",
   "title_sidebar": "Contents",
   "toc_cell": false,
   "toc_position": {},
   "toc_section_display": true,
   "toc_window_display": false
  }
 },
 "nbformat": 4,
 "nbformat_minor": 4
}
