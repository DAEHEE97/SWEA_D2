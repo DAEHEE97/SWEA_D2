{
 "cells": [
  {
   "cell_type": "markdown",
   "id": "ec42708a",
   "metadata": {},
   "source": [
    "# 1954. 달팽이 숫자\n",
    "\n",
    "- [1954](https://swexpertacademy.com/main/code/problem/problemDetail.do?problemLevel=2&contestProbId=AV5PobmqAPoDFAUq&categoryId=AV5PobmqAPoDFAUq&categoryType=CODE&problemTitle=1954&orderBy=FIRST_REG_DATETIME&selectCodeLang=ALL&select-1=2&pageSize=10&pageIndex=1)"
   ]
  },
  {
   "cell_type": "markdown",
   "id": "f2a04579",
   "metadata": {},
   "source": [
    "\n",
    "\n",
    "달팽이는 1부터 N*N까지의 숫자가 시계방향으로 이루어져 있다.\n",
    "\n",
    "다음과 같이 정수 N을 입력 받아 N크기의 달팽이를 출력하시오.\n",
    "\n",
    "\n",
    "## [예제]\n",
    "\n",
    "N이 3일 경우,\n",
    "```\n",
    "1 2 3\n",
    "8 9 4\n",
    "7 6 5\n",
    "```\n",
    "\n",
    "N이 4일 경우,\n",
    "\n",
    "```\n",
    "1 2 3 4\n",
    "12 13 14 5\n",
    "11 16 15 6\n",
    "10 9 8 7\n",
    "```\n",
    "\n",
    "## [제약사항]\n",
    "\n",
    "달팽이의 크기 N은 1 이상 10 이하의 정수이다. (1 ≤ N ≤ 10)\n",
    "\n",
    "\n",
    "## [입력]\n",
    "\n",
    "가장 첫 줄에는 테스트 케이스의 개수 T가 주어지고, 그 아래로 각 테스트 케이스가 주어진다.\n",
    "\n",
    "각 테스트 케이스에는 N이 주어진다.\n",
    "\n",
    "\n",
    "## [출력]\n",
    "\n",
    "각 줄은 '#t'로 시작하고, 다음 줄부터 빈칸을 사이에 두고 달팽이 숫자를 출력한다.\n",
    "\n",
    "(t는 테스트 케이스의 번호를 의미하며 1부터 시작한다.)"
   ]
  },
  {
   "cell_type": "markdown",
   "id": "35188bd3",
   "metadata": {},
   "source": [
    "---"
   ]
  },
  {
   "cell_type": "code",
   "execution_count": 11,
   "id": "3a8ec22a",
   "metadata": {},
   "outputs": [
    {
     "name": "stdout",
     "output_type": "stream",
     "text": [
      "1\n",
      "3\n",
      "1 2 3\n",
      "8 9 4\n",
      "7 6 5\n"
     ]
    }
   ],
   "source": [
    "T = int(input())\n",
    "\n",
    "for t in range(1,T+1):\n",
    "    \n",
    "    N = int(input())\n",
    "    \n",
    "    # 2차원 배열 출력 \n",
    "    arr = [ [0] * N for _ in range(N) ]\n",
    "    \n",
    "    ci = 0\n",
    "    cj = 0\n",
    "    \n",
    "    \n",
    "    cnt = 1\n",
    "    arr[ci][cj] = cnt\n",
    "    \n",
    "    while(1):\n",
    "        \n",
    "        # N * N ㅇ\n",
    "        if cnt == N * N :\n",
    "            break\n",
    "            \n",
    "        # 한방향으로 쭉 가야함 \n",
    "        for di, dj in ((0,1),(1,0),(0,-1),(-1,0)):\n",
    "            \n",
    "            while(1):\n",
    "                \n",
    "                ni,nj = ci+di, cj+dj\n",
    "                \n",
    "                # 범위안, 특정 조건\n",
    "                if 0 <= ni < N and 0 <= nj < N and arr[ni][nj] == 0: \n",
    "                    \n",
    "                    cnt += 1\n",
    "                    arr[ni][nj] = cnt\n",
    "\n",
    "                    ci,cj = ni,nj\n",
    "                \n",
    "                else:\n",
    "                    break\n",
    "                    \n",
    "\n",
    "    \n",
    "    \n",
    "    for lst in arr:\n",
    "        print(*lst)\n",
    "\n",
    "        \n",
    "    "
   ]
  },
  {
   "cell_type": "markdown",
   "id": "b6207db7",
   "metadata": {},
   "source": [
    "---"
   ]
  },
  {
   "cell_type": "code",
   "execution_count": 1,
   "id": "87d4f038",
   "metadata": {},
   "outputs": [
    {
     "name": "stdout",
     "output_type": "stream",
     "text": [
      "1\n",
      "3\n",
      "#1\n",
      "1 2 3\n",
      "8 9 4\n",
      "7 6 5\n"
     ]
    }
   ],
   "source": [
    "T = int(input())\n",
    "\n",
    "for t in range(1,T+1):\n",
    "    \n",
    "    N = int(input())\n",
    "    \n",
    "    arr = [ [0] * N for _ in range(N) ]\n",
    "    \n",
    "    ci,cj = 0,0\n",
    "    cnt = 1\n",
    "    \n",
    "    arr[ci][cj] = cnt\n",
    "  \n",
    "    while(1):\n",
    "    \n",
    "        if cnt == N*N:\n",
    "            break\n",
    "\n",
    "        # di,dj 방향 하나 잡으면, 끝까지 가다가, break 걸리면 바뀜,\n",
    "        # 근데 이작업도 while 안에서 끝까지 작업 됨\n",
    "    \n",
    "        for di,dj in ((0,1),(1,0),(0,-1),(-1,0)):\n",
    "            \n",
    "            while(1):\n",
    "                ni, nj = ci + di, cj + dj\n",
    "\n",
    "                if (0<=ni<N) and (0<=nj<N) and (arr[ni][nj] == 0):\n",
    "                    cnt+=1\n",
    "                    arr[ni][nj] = cnt\n",
    "\n",
    "                    ci,cj = ni,nj\n",
    "\n",
    "                else:\n",
    "                    break\n",
    "                    \n",
    "    \n",
    "    print('#{0}'.format(t))\n",
    "    \n",
    "    for lst in range(len(arr)):\n",
    "        print(*arr[lst])\n",
    "            \n",
    "        "
   ]
  },
  {
   "cell_type": "markdown",
   "id": "18ea8040",
   "metadata": {},
   "source": [
    "---"
   ]
  },
  {
   "cell_type": "code",
   "execution_count": 2,
   "id": "ab26bc89",
   "metadata": {},
   "outputs": [
    {
     "data": {
      "text/plain": [
       "9"
      ]
     },
     "execution_count": 2,
     "metadata": {},
     "output_type": "execute_result"
    }
   ],
   "source": [
    "cnt"
   ]
  },
  {
   "cell_type": "code",
   "execution_count": 3,
   "id": "67dbcc08",
   "metadata": {},
   "outputs": [
    {
     "data": {
      "text/plain": [
       "(-1, 0)"
      ]
     },
     "execution_count": 3,
     "metadata": {},
     "output_type": "execute_result"
    }
   ],
   "source": [
    "# di,dj 마지막 방향 모두 돌고, break 모두 박힌후, 종료\n",
    "\n",
    "di,dj"
   ]
  },
  {
   "cell_type": "markdown",
   "id": "6b1e285e",
   "metadata": {},
   "source": [
    "---"
   ]
  },
  {
   "cell_type": "markdown",
   "id": "894dd264",
   "metadata": {},
   "source": [
    "## Memo\n",
    "\n",
    "\n",
    "- 범위 내, 값0 -> cnt ++, 현재 위치 저장\n",
    "\n",
    "- for di,dj 도 반복문, 방향 검사 모두 끝난 후, cnt 조건 break\n",
    "\n",
    "N이 3일 경우,\n",
    "```\n",
    "1 2 3\n",
    "8 9 4\n",
    "7 6 5\n",
    "```\n",
    "\n",
    "N이 4일 경우,\n",
    "\n",
    "```\n",
    "1 2 3 4\n",
    "12 13 14 5\n",
    "11 16 15 6\n",
    "10 9 8 7\n",
    "```\n",
    "\n",
    "1. N * N 2차원 0 배열 생성\n",
    "\n",
    "2. arr(0,0) = 1 초기화 v\n",
    "\n",
    "3. v ++\n",
    "\n",
    "4. 우로 이동하면서, 범위 i 고정 j 만 움직이면서, 우로 (0,1) 방향\n",
    "\n",
    "---\n",
    "\n",
    "다음 범위 내, 값이 = 0 이여야 됨\n",
    "아니면 방향 전환\n",
    "\n",
    "(0,1) (1,0) (0,-1) (-1,0)\n",
    "\n",
    "\n"
   ]
  },
  {
   "cell_type": "markdown",
   "id": "35f7b5ec",
   "metadata": {},
   "source": [
    "---"
   ]
  },
  {
   "cell_type": "code",
   "execution_count": null,
   "id": "249ec28a",
   "metadata": {},
   "outputs": [],
   "source": [
    "T = int(input())\n",
    "\n",
    "di = [0, 1, 0, -1]\n",
    "dj = [1, 0, -1, 0]\n",
    "\n",
    "for test_case in range(1, T + 1):\n",
    "    N = int(input())\n",
    "    arr = [[0] * N for _ in range(N)]\n",
    " \n",
    "    i, j, cnt, dr = 0, 0, 1, 0 # 초기화\n",
    "    arr[i][j] = cnt\n",
    "    cnt += 1\n",
    " \n",
    "    while cnt <= N*N:\n",
    "        \n",
    "        ni, nj = i+di[dr], j+dj[dr]\n",
    "        \n",
    "        if 0<=ni<N and 0<=nj<N and arr[ni][nj]==0:\n",
    "            i, j = ni, nj\n",
    "            arr[i][j]=cnt\n",
    "            cnt+=1\n",
    "        \n",
    "        else:\n",
    "            dr = (dr+1)%4\n",
    " \n",
    "    print(f'#{test_case}')\n",
    "    \n",
    "    for lst in arr:\n",
    "        print(*lst)"
   ]
  }
 ],
 "metadata": {
  "kernelspec": {
   "display_name": "Python 3 (ipykernel)",
   "language": "python",
   "name": "python3"
  },
  "language_info": {
   "codemirror_mode": {
    "name": "ipython",
    "version": 3
   },
   "file_extension": ".py",
   "mimetype": "text/x-python",
   "name": "python",
   "nbconvert_exporter": "python",
   "pygments_lexer": "ipython3",
   "version": "3.8.16"
  },
  "toc": {
   "base_numbering": 1,
   "nav_menu": {},
   "number_sections": true,
   "sideBar": true,
   "skip_h1_title": false,
   "title_cell": "Table of Contents",
   "title_sidebar": "Contents",
   "toc_cell": false,
   "toc_position": {},
   "toc_section_display": true,
   "toc_window_display": false
  },
  "varInspector": {
   "cols": {
    "lenName": 16,
    "lenType": 16,
    "lenVar": 40
   },
   "kernels_config": {
    "python": {
     "delete_cmd_postfix": "",
     "delete_cmd_prefix": "del ",
     "library": "var_list.py",
     "varRefreshCmd": "print(var_dic_list())"
    },
    "r": {
     "delete_cmd_postfix": ") ",
     "delete_cmd_prefix": "rm(",
     "library": "var_list.r",
     "varRefreshCmd": "cat(var_dic_list()) "
    }
   },
   "types_to_exclude": [
    "module",
    "function",
    "builtin_function_or_method",
    "instance",
    "_Feature"
   ],
   "window_display": false
  }
 },
 "nbformat": 4,
 "nbformat_minor": 5
}
