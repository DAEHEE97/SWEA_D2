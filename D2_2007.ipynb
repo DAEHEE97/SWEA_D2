{
 "cells": [
  {
   "cell_type": "markdown",
   "id": "fd89db5a",
   "metadata": {},
   "source": [
    "# 2007. 패턴 마디의 길이 \n",
    "\n",
    "- [2007](https://swexpertacademy.com/main/code/problem/problemDetail.do?problemLevel=2&contestProbId=AV5P1kNKAl8DFAUq&categoryId=AV5P1kNKAl8DFAUq&categoryType=CODE&problemTitle=&orderBy=FIRST_REG_DATETIME&selectCodeLang=PYTHON&select-1=2&pageSize=10&pageIndex=1)"
   ]
  },
  {
   "cell_type": "markdown",
   "id": "621328e6",
   "metadata": {},
   "source": [
    "패턴에서 반복되는 부분을 마디라고 부른다. \n",
    "\n",
    "문자열을 입력 받아, 마디의 길이를 출력하는 프로그램을 작성하라.\n",
    "\n",
    "\n",
    "## [제약 사항]\n",
    "\n",
    "각 문자열의 길이는 30이다. \n",
    "\n",
    "마디의 최대 길이는 10이다.\n",
    "\n",
    "\n",
    "## [입력]\n",
    "\n",
    "가장 첫 줄에는 테스트 케이스의 개수 T가 주어지고, 그 아래로 각 테스트 케이스가 주어진다.\n",
    "\n",
    "각 테스트 케이스의 첫 번째 줄에는 길이가 30인 문자열이 주어진다.\n",
    "\n",
    "\n",
    "\n",
    "## [출력]\n",
    "\n",
    "출력의 각 줄은 '#t'로 시작하고, 공백을 한 칸 둔 다음 정답을 출력한다.\n",
    "\n",
    "(t는 테스트 케이스의 번호를 의미하며 1부터 시작한다.)\n",
    " "
   ]
  },
  {
   "cell_type": "markdown",
   "id": "0cd42563",
   "metadata": {},
   "source": [
    "---"
   ]
  },
  {
   "cell_type": "markdown",
   "id": "b356b5aa",
   "metadata": {},
   "source": [
    "## Memo\n",
    "\n",
    "- 문자열 비교\n",
    "    - 1.\n",
    "    - 2.\n",
    "    \n",
    "--- \n",
    "\n",
    "012 345 678\n",
    "\n",
    "asd asd asd\n",
    "\n",
    "0123 4567 891011\n",
    "\n",
    "asdf asdf asdf\n"
   ]
  },
  {
   "cell_type": "markdown",
   "id": "2be9f893",
   "metadata": {},
   "source": [
    "---"
   ]
  },
  {
   "cell_type": "code",
   "execution_count": 1,
   "id": "ee407dfb",
   "metadata": {},
   "outputs": [
    {
     "name": "stdout",
     "output_type": "stream",
     "text": [
      "GALAXYGALAXYGALAXYGALAXYGALAXY\n"
     ]
    },
    {
     "data": {
      "text/plain": [
       "'GALAXYGALAXYGALAXYGALAXYGALAXY'"
      ]
     },
     "execution_count": 1,
     "metadata": {},
     "output_type": "execute_result"
    }
   ],
   "source": [
    "# 1. 리스트 내 문자열 append 하면서 비교\n",
    "\n",
    "string = input()\n",
    "string"
   ]
  },
  {
   "cell_type": "code",
   "execution_count": 2,
   "id": "d3c1fc06",
   "metadata": {},
   "outputs": [],
   "source": [
    "s1 = []\n",
    "s2 = []"
   ]
  },
  {
   "cell_type": "code",
   "execution_count": 3,
   "id": "8a557e72",
   "metadata": {},
   "outputs": [
    {
     "data": {
      "text/plain": [
       "True"
      ]
     },
     "execution_count": 3,
     "metadata": {},
     "output_type": "execute_result"
    }
   ],
   "source": [
    "s1 == s2"
   ]
  },
  {
   "cell_type": "code",
   "execution_count": 4,
   "id": "d6721d7c",
   "metadata": {},
   "outputs": [],
   "source": [
    "s1.append('G')\n",
    "s2.append('A')"
   ]
  },
  {
   "cell_type": "code",
   "execution_count": 5,
   "id": "3dad4818",
   "metadata": {},
   "outputs": [
    {
     "data": {
      "text/plain": [
       "False"
      ]
     },
     "execution_count": 5,
     "metadata": {},
     "output_type": "execute_result"
    }
   ],
   "source": [
    "s1 == s2"
   ]
  },
  {
   "cell_type": "markdown",
   "id": "c71ba6ac",
   "metadata": {},
   "source": [
    "---"
   ]
  },
  {
   "cell_type": "code",
   "execution_count": 6,
   "id": "16f2bb96",
   "metadata": {},
   "outputs": [
    {
     "data": {
      "text/plain": [
       "'GALAXYGALAXYGALAXYGALAXYGALAXY'"
      ]
     },
     "execution_count": 6,
     "metadata": {},
     "output_type": "execute_result"
    }
   ],
   "source": [
    "# 2. 문자열 슬라이싱 후, 비교\n",
    "\n",
    "string"
   ]
  },
  {
   "cell_type": "code",
   "execution_count": 7,
   "id": "60378bc6",
   "metadata": {},
   "outputs": [
    {
     "data": {
      "text/plain": [
       "('', 'G')"
      ]
     },
     "execution_count": 7,
     "metadata": {},
     "output_type": "execute_result"
    }
   ],
   "source": [
    "# 공백\n",
    "string[0:0],string[0:1]"
   ]
  },
  {
   "cell_type": "code",
   "execution_count": 8,
   "id": "713337ae",
   "metadata": {},
   "outputs": [
    {
     "data": {
      "text/plain": [
       "('GALAXY', 'GALAXY')"
      ]
     },
     "execution_count": 8,
     "metadata": {},
     "output_type": "execute_result"
    }
   ],
   "source": [
    "# range로 한번에 해석 처리, 0부터 i까지, i 부터 2*i 까지\n",
    "\n",
    "s1 = string[0:6]\n",
    "s2 = string[6:12]\n",
    "s1,s2"
   ]
  },
  {
   "cell_type": "code",
   "execution_count": 9,
   "id": "29391d66",
   "metadata": {},
   "outputs": [
    {
     "data": {
      "text/plain": [
       "True"
      ]
     },
     "execution_count": 9,
     "metadata": {},
     "output_type": "execute_result"
    }
   ],
   "source": [
    "s1 == s2"
   ]
  },
  {
   "cell_type": "markdown",
   "id": "3ffdb7a5",
   "metadata": {},
   "source": [
    "---"
   ]
  },
  {
   "cell_type": "markdown",
   "id": "9730973d",
   "metadata": {},
   "source": [
    "---"
   ]
  },
  {
   "cell_type": "code",
   "execution_count": 10,
   "id": "a21d0e3a",
   "metadata": {},
   "outputs": [
    {
     "name": "stdout",
     "output_type": "stream",
     "text": [
      "1\n",
      "GALAXYGALAXYGALAXYGALAXYGALAXY\n",
      "#1 GALAXY 6\n"
     ]
    }
   ],
   "source": [
    "T = int(input())\n",
    "\n",
    "for t in range(1,T+1):\n",
    "    \n",
    "    string = input()\n",
    "    \n",
    "    # 문자열 슬라이싱으로 마디 구분, i가 0일때 제외, 10글자 제한 -> 0,10\n",
    "    for i in range(0,10):\n",
    "        \n",
    "        s1 = string[0:i]\n",
    "        s2 = string[i:2*i]\n",
    "        \n",
    "        if i!=0 and s1 == s2 :\n",
    "            print('#{0} {1} {2}'.format(t,s1,len(s1)))\n",
    "            break"
   ]
  },
  {
   "cell_type": "markdown",
   "id": "cf922fb1",
   "metadata": {},
   "source": [
    "---"
   ]
  }
 ],
 "metadata": {
  "kernelspec": {
   "display_name": "Python 3 (ipykernel)",
   "language": "python",
   "name": "python3"
  },
  "language_info": {
   "codemirror_mode": {
    "name": "ipython",
    "version": 3
   },
   "file_extension": ".py",
   "mimetype": "text/x-python",
   "name": "python",
   "nbconvert_exporter": "python",
   "pygments_lexer": "ipython3",
   "version": "3.11.2"
  }
 },
 "nbformat": 4,
 "nbformat_minor": 5
}
