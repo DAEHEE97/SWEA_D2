{
 "cells": [
  {
   "cell_type": "markdown",
   "id": "dffacf8b",
   "metadata": {},
   "source": [
    "# 2007. 패턴 마디의 길이 "
   ]
  },
  {
   "cell_type": "markdown",
   "id": "2401bf58",
   "metadata": {},
   "source": [
    "패턴에서 반복되는 부분을 마디라고 부른다. 문자열을 입력 받아 마디의 길이를 출력하는 프로그램을 작성하라.\n",
    "\n",
    "\n",
    "## [제약 사항]\n",
    "\n",
    "각 문자열의 길이는 30이다. \n",
    "\n",
    "마디의 최대 길이는 10이다.\n",
    "\n",
    "\n",
    "## [입력]\n",
    "\n",
    "가장 첫 줄에는 테스트 케이스의 개수 T가 주어지고, 그 아래로 각 테스트 케이스가 주어진다.\n",
    "\n",
    "각 테스트 케이스의 첫 번째 줄에는 길이가 30인 문자열이 주어진다.\n",
    "\n",
    "\n",
    "\n",
    "## [출력]\n",
    "\n",
    "출력의 각 줄은 '#t'로 시작하고, 공백을 한 칸 둔 다음 정답을 출력한다.\n",
    "\n",
    "(t는 테스트 케이스의 번호를 의미하며 1부터 시작한다.)\n",
    " "
   ]
  },
  {
   "cell_type": "markdown",
   "id": "cd80132e",
   "metadata": {},
   "source": [
    "---"
   ]
  },
  {
   "cell_type": "markdown",
   "id": "9d722735",
   "metadata": {},
   "source": [
    "## Memo\n",
    "\n",
    "\n",
    "문자열 s 30 짜리\n",
    "\n",
    "마디의 최대 길이 해봤자 10\n",
    "\n",
    "출력이 반복되는 횟수가 아니라\n",
    "\n",
    "반복되는 문자의 길이 len 출력\n",
    "\n"
   ]
  },
  {
   "cell_type": "code",
   "execution_count": 1,
   "id": "66849ffe",
   "metadata": {},
   "outputs": [
    {
     "name": "stdout",
     "output_type": "stream",
     "text": [
      "3\n",
      "KOREAKOREAKOREAKOREAKOREAKOREA\n",
      "#1 5\n",
      "SAMSUNGSAMSUNGSAMSUNGSAMSUNGSA\n",
      "#2 7\n",
      "GALAXYGALAXYGALAXYGALAXYGALAXY\n",
      "#3 6\n"
     ]
    }
   ],
   "source": [
    "# 슬라이싱 과 배수 관계\n",
    "\n",
    "\n",
    "T = int(input())\n",
    "\n",
    "for t in range(1,T+1):\n",
    "    \n",
    "    string = input()\n",
    "    \n",
    "    p_1 = []\n",
    "    p_2 = []\n",
    "    \n",
    "    for i in range(10):\n",
    "        \n",
    "        p_1 = string[:i]\n",
    "        \n",
    "        p_2 = string[i:i*2]\n",
    "        \n",
    "        if (i != 0) and (p_1 == p_2):\n",
    "            print('#{0} {1}'.format((t), len(p_1)))\n",
    "            break"
   ]
  },
  {
   "cell_type": "markdown",
   "id": "d52f23aa",
   "metadata": {},
   "source": [
    "---"
   ]
  },
  {
   "cell_type": "code",
   "execution_count": 2,
   "id": "c3ceec3d",
   "metadata": {},
   "outputs": [
    {
     "data": {
      "text/plain": [
       "'GALAXY'"
      ]
     },
     "execution_count": 2,
     "metadata": {},
     "output_type": "execute_result"
    }
   ],
   "source": [
    "p_1"
   ]
  },
  {
   "cell_type": "code",
   "execution_count": 3,
   "id": "364f1e6e",
   "metadata": {},
   "outputs": [
    {
     "data": {
      "text/plain": [
       "'GALAXY'"
      ]
     },
     "execution_count": 3,
     "metadata": {},
     "output_type": "execute_result"
    }
   ],
   "source": [
    "p_2"
   ]
  },
  {
   "cell_type": "markdown",
   "id": "02393b01",
   "metadata": {},
   "source": [
    "---"
   ]
  }
 ],
 "metadata": {
  "kernelspec": {
   "display_name": "Python 3 (ipykernel)",
   "language": "python",
   "name": "python3"
  },
  "language_info": {
   "codemirror_mode": {
    "name": "ipython",
    "version": 3
   },
   "file_extension": ".py",
   "mimetype": "text/x-python",
   "name": "python",
   "nbconvert_exporter": "python",
   "pygments_lexer": "ipython3",
   "version": "3.11.2"
  }
 },
 "nbformat": 4,
 "nbformat_minor": 5
}
