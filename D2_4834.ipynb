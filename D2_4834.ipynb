{
 "cells": [
  {
   "cell_type": "markdown",
   "id": "6ed2abd6",
   "metadata": {},
   "source": [
    "# D2_4834_숫자카드\n",
    "\n",
    "- https://swexpertacademy.com/main/learn/course/subjectDetail.do?courseId=AVuPDN86AAXw5UW6&subjectId=AWOVFCzaqeUDFAWg\n",
    "\n",
    "0에서 9까지 숫자가 적힌 N장의 카드가 주어진다.\n",
    "\n",
    "가장 많은 카드에 적힌 숫자와 카드가 몇 장인지 출력하는 프로그램을 만드시오. 카드 장수가 같을 때는 적힌 숫자가 큰 쪽을 출력한다.\n",
    "\n",
    "\n",
    " \n",
    "\n",
    "## [입력]\n",
    " \n",
    "\n",
    "첫 줄에 테스트 케이스 개수 T가 주어진다.  ( 1 ≤ T ≤ 50 )\n",
    "\n",
    "다음 줄부터 테스트케이스의 첫 줄에 카드 장수 N이 주어진다. ( 5 ≤ N ≤ 100 )\n",
    "\n",
    "다음 줄에 N개의 숫자 ai가 여백없이 주어진다. (0으로 시작할 수도 있다.)  ( 0 ≤ ai ≤ 9 ) \n",
    "\n",
    " \n",
    "\n",
    "## [출력]\n",
    " \n",
    "\n",
    "각 줄마다 \"#T\" (T는 테스트 케이스 번호)를 출력한 뒤, 가장 많은 카드의 숫자와 장 수를 차례로 출력한다."
   ]
  },
  {
   "cell_type": "markdown",
   "id": "78303ed0",
   "metadata": {},
   "source": [
    "---"
   ]
  },
  {
   "cell_type": "code",
   "execution_count": 1,
   "id": "d437e8ab",
   "metadata": {},
   "outputs": [
    {
     "name": "stdout",
     "output_type": "stream",
     "text": [
      "1\n",
      "5\n",
      "49779\n",
      "#1 9 2\n"
     ]
    }
   ],
   "source": [
    "T = int(input())\n",
    "\n",
    "\n",
    "for t in range(1,T+1):\n",
    "    \n",
    "    \n",
    "    N = int(input())\n",
    "    \n",
    "    string = list(input())\n",
    "    \n",
    "    lst = []\n",
    "    \n",
    "    for i in string:\n",
    "        lst.append(int(i))\n",
    "    \n",
    "    # 카운트 값, 최대 카운트인 값 출력\n",
    "    \n",
    "    cnt_lst = [0] * 10\n",
    "    \n",
    "    for i in range(0,9+1):\n",
    "        \n",
    "        cnt_lst[i] = lst.count(i)\n",
    "     \n",
    "    \n",
    "    # 최대 값과, 최대 값의 인덱스, 최대 값 중복 처리\n",
    "    \n",
    "    max_value = max(cnt_lst)\n",
    "    \n",
    "    idx_lst = [ i for i,v in enumerate(cnt_lst) if v == max_value ]\n",
    "\n",
    "    ans = idx_lst[-1]\n",
    "    \n",
    "    print('#{0} {1} {2}'.format(t,ans, max_value ))"
   ]
  },
  {
   "cell_type": "markdown",
   "id": "c9390e40",
   "metadata": {},
   "source": [
    "---"
   ]
  },
  {
   "cell_type": "code",
   "execution_count": 2,
   "id": "482d1b91",
   "metadata": {},
   "outputs": [
    {
     "data": {
      "text/plain": [
       "[4, 9, 7, 7, 9]"
      ]
     },
     "execution_count": 2,
     "metadata": {},
     "output_type": "execute_result"
    }
   ],
   "source": [
    "lst"
   ]
  },
  {
   "cell_type": "code",
   "execution_count": 3,
   "id": "c4404eed",
   "metadata": {},
   "outputs": [
    {
     "data": {
      "text/plain": [
       "[0, 0, 0, 0, 1, 0, 0, 2, 0, 2]"
      ]
     },
     "execution_count": 3,
     "metadata": {},
     "output_type": "execute_result"
    }
   ],
   "source": [
    "cnt_lst"
   ]
  },
  {
   "cell_type": "code",
   "execution_count": 4,
   "id": "cf05e0f5",
   "metadata": {},
   "outputs": [
    {
     "data": {
      "text/plain": [
       "2"
      ]
     },
     "execution_count": 4,
     "metadata": {},
     "output_type": "execute_result"
    }
   ],
   "source": [
    "max_value"
   ]
  },
  {
   "cell_type": "code",
   "execution_count": 5,
   "id": "c93148c4",
   "metadata": {},
   "outputs": [
    {
     "data": {
      "text/plain": [
       "[7, 9]"
      ]
     },
     "execution_count": 5,
     "metadata": {},
     "output_type": "execute_result"
    }
   ],
   "source": [
    "idx_lst"
   ]
  },
  {
   "cell_type": "code",
   "execution_count": 6,
   "id": "9ca6f640",
   "metadata": {},
   "outputs": [
    {
     "data": {
      "text/plain": [
       "9"
      ]
     },
     "execution_count": 6,
     "metadata": {},
     "output_type": "execute_result"
    }
   ],
   "source": [
    "ans"
   ]
  }
 ],
 "metadata": {
  "kernelspec": {
   "display_name": "Python 3 (ipykernel)",
   "language": "python",
   "name": "python3"
  },
  "language_info": {
   "codemirror_mode": {
    "name": "ipython",
    "version": 3
   },
   "file_extension": ".py",
   "mimetype": "text/x-python",
   "name": "python",
   "nbconvert_exporter": "python",
   "pygments_lexer": "ipython3",
   "version": "3.8.16"
  },
  "toc": {
   "base_numbering": 1,
   "nav_menu": {},
   "number_sections": true,
   "sideBar": true,
   "skip_h1_title": false,
   "title_cell": "Table of Contents",
   "title_sidebar": "Contents",
   "toc_cell": false,
   "toc_position": {},
   "toc_section_display": true,
   "toc_window_display": false
  },
  "varInspector": {
   "cols": {
    "lenName": 16,
    "lenType": 16,
    "lenVar": 40
   },
   "kernels_config": {
    "python": {
     "delete_cmd_postfix": "",
     "delete_cmd_prefix": "del ",
     "library": "var_list.py",
     "varRefreshCmd": "print(var_dic_list())"
    },
    "r": {
     "delete_cmd_postfix": ") ",
     "delete_cmd_prefix": "rm(",
     "library": "var_list.r",
     "varRefreshCmd": "cat(var_dic_list()) "
    }
   },
   "types_to_exclude": [
    "module",
    "function",
    "builtin_function_or_method",
    "instance",
    "_Feature"
   ],
   "window_display": false
  }
 },
 "nbformat": 4,
 "nbformat_minor": 5
}
