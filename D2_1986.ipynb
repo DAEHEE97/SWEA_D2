{
 "cells": [
  {
   "cell_type": "markdown",
   "metadata": {},
   "source": [
    "# 1986. 지그재그 숫자\n",
    "\n",
    "1부터 N까지의 숫자에서 홀수는 더하고 짝수는 뺐을 때 최종 누적된 값을 구해보자.\n",
    "\n",
    "\n",
    "## [예제 풀이]\n",
    "\n",
    "N이 5일 경우,\n",
    "\n",
    "1 – 2 + 3 – 4 + 5 = 3\n",
    "\n",
    "N이 6일 경우,\n",
    "\n",
    "1 – 2 + 3 – 4 + 5 – 6 = -3\n",
    "\n",
    "\n",
    "## [제약사항]\n",
    "\n",
    "N은 1 이상 10 이하의 정수이다. (1 ≤ N ≤ 10)\n",
    "\n",
    "\n",
    "## [입력]\n",
    "\n",
    "가장 첫 줄에는 테스트 케이스의 개수 T가 주어지고, 그 아래로 각 테스트 케이스가 주어진다.\n",
    "\n",
    "각 테스트 케이스에는 N이 주어진다.\n",
    "\n",
    "\n",
    "## [출력]\n",
    "\n",
    "각 줄은 '#t'로 시작하고, 공백을 한 칸 둔 다음 누적된 값을 출력한다.\n",
    "\n",
    "(t는 테스트 케이스의 번호를 의미하며 1부터 시작한다.)"
   ]
  },
  {
   "cell_type": "markdown",
   "metadata": {},
   "source": [
    "---"
   ]
  },
  {
   "cell_type": "code",
   "execution_count": 1,
   "metadata": {},
   "outputs": [
    {
     "name": "stdout",
     "output_type": "stream",
     "text": [
      "2\n",
      "5\n",
      "#1 3\n",
      "6\n",
      "#2 -3\n"
     ]
    }
   ],
   "source": [
    "T = int(input())\n",
    "\n",
    "for t in range(T):\n",
    "    \n",
    "    s = 0\n",
    "    \n",
    "    N = int(input()) \n",
    "    \n",
    "    for i in range(1,N+1):\n",
    "        if i%2 == 0:\n",
    "            i = -i\n",
    "    \n",
    "        s+=i\n",
    "    \n",
    "    print('#{0} {1}'.format(t+1,s))\n",
    "\n",
    "    "
   ]
  }
 ],
 "metadata": {
  "hide_input": false,
  "kernelspec": {
   "display_name": "Python 3",
   "language": "python",
   "name": "python3"
  },
  "language_info": {
   "codemirror_mode": {
    "name": "ipython",
    "version": 3
   },
   "file_extension": ".py",
   "mimetype": "text/x-python",
   "name": "python",
   "nbconvert_exporter": "python",
   "pygments_lexer": "ipython3",
   "version": "3.8.5"
  },
  "toc": {
   "base_numbering": 1,
   "nav_menu": {},
   "number_sections": true,
   "sideBar": true,
   "skip_h1_title": false,
   "title_cell": "Table of Contents",
   "title_sidebar": "Contents",
   "toc_cell": false,
   "toc_position": {},
   "toc_section_display": true,
   "toc_window_display": false
  }
 },
 "nbformat": 4,
 "nbformat_minor": 4
}
