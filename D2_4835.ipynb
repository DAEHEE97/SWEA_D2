{
 "cells": [
  {
   "cell_type": "markdown",
   "id": "a82a41d8",
   "metadata": {},
   "source": [
    "# 4835. [파이썬 S/W 문제해결 기본] 1일차 - 구간합\n",
    "\n",
    "\n",
    "N개의 정수가 들어있는 배열에서 이웃한 M개의 합을 계산하는 것은 디지털 필터링의 기초연산이다.\n",
    "\n",
    "M개의 합이 가장 큰 경우와 가장 작은 경우의 차이를 출력하는 프로그램을 작성하시오.\n",
    " \n",
    "\n",
    "다음은 N=5, M=3이고 5개의 숫자 1 2 3 4 5가 배열 v에 들어있는 경우이다.\n",
    "\n",
    "## [입력]\n",
    " \n",
    "\n",
    "첫 줄에 테스트 케이스 개수 T가 주어진다.  ( 1 ≤ T ≤ 50 )\n",
    "\n",
    "\n",
    "다음 줄부터 테스트케이스의 첫 줄에 정수의 개수 N과 구간의 개수 M 주어진다. ( 10 ≤ N ≤ 100,  2 ≤ M ＜ N )\n",
    "\n",
    "\n",
    "다음 줄에 N개의 정수 ai가 주어진다. ( 1 ≤ a ≤ 10000 )\n",
    "\n",
    " \n",
    "\n",
    "## [출력]\n",
    " \n",
    "\n",
    "각 줄마다 \"#T\" (T는 테스트 케이스 번호)를 출력한 뒤, 답을 출력한다."
   ]
  },
  {
   "cell_type": "markdown",
   "id": "08574f2b",
   "metadata": {},
   "source": [
    "---"
   ]
  },
  {
   "cell_type": "markdown",
   "id": "731c9f8f",
   "metadata": {},
   "source": [
    "## Memo\n",
    "\n",
    "- 큰 순으로 정렬 후에, 처리하는게 아니라, 주어진 숫자 lst 그대로 처리 해야함\n",
    "\n",
    "- 내맘대로 문제 해석 x, 문제 파악이 제일 중요\n"
   ]
  },
  {
   "cell_type": "markdown",
   "id": "1cd338a5",
   "metadata": {},
   "source": [
    "---"
   ]
  },
  {
   "cell_type": "code",
   "execution_count": 1,
   "id": "572c831d",
   "metadata": {},
   "outputs": [
    {
     "name": "stdout",
     "output_type": "stream",
     "text": [
      "1\n",
      "10 5\n",
      "6262 6004 1801 7660 7919 1280 525 9798 5134 1821\n",
      "#1 11088\n"
     ]
    }
   ],
   "source": [
    "T = int(input())\n",
    "\n",
    "for t in range(1, T+1):\n",
    "    \n",
    "    N, M = map(int,input().split())\n",
    "    \n",
    "    lst = list(map(int,input().split()))\n",
    "    \n",
    "    # N = 10, \n",
    "    # idx 0 부터 idx N - M 10 - 5 5idx + 1\n",
    "    \n",
    "    s_lst = []\n",
    "    \n",
    "    for si in range(0,N-M+1):\n",
    "        \n",
    "        s = 0\n",
    "\n",
    "        for i in range(si,si+M):\n",
    "            s+=lst[i]\n",
    "            \n",
    "        s_lst.append(s)\n",
    "    \n",
    "    print('#{0} {1}'.format(t,max(s_lst) - min(s_lst)))"
   ]
  },
  {
   "cell_type": "markdown",
   "id": "588d9d5d",
   "metadata": {},
   "source": [
    "---"
   ]
  },
  {
   "cell_type": "code",
   "execution_count": 2,
   "id": "81466ee0",
   "metadata": {},
   "outputs": [
    {
     "name": "stdout",
     "output_type": "stream",
     "text": [
      "1\n",
      "10 5\n",
      "6262 6004 1801 7660 7919 1280 525 9798 5134 1821\n",
      "#1 11088\n"
     ]
    }
   ],
   "source": [
    "T = int(input())\n",
    "\n",
    "for test_case in range(1, T + 1):\n",
    "    \n",
    "    N, M = map(int, input().split())\n",
    "    \n",
    "    lst = list(map(int, input().split()))\n",
    "    \n",
    "    sm = mn = mx = sum(lst[0:M])\n",
    "    \n",
    "    for i in range(M, N):\n",
    "        \n",
    "        sm += lst[i]\n",
    "        sm -= lst[i-M]\n",
    "        \n",
    "        if mn > sm:\n",
    "            mn = sm\n",
    "            \n",
    "        if mx < sm:\n",
    "            mx = sm\n",
    "            \n",
    "    print(f'#{test_case} {mx - mn}')"
   ]
  },
  {
   "cell_type": "markdown",
   "id": "8bc315ed",
   "metadata": {},
   "source": [
    "---"
   ]
  },
  {
   "cell_type": "markdown",
   "id": "915e100f",
   "metadata": {},
   "source": [
    "- 입력 lst를 sort 내림차순 후, lst 슬라이딩으로 큰 수 M개, 작은 수 -M개 "
   ]
  },
  {
   "cell_type": "code",
   "execution_count": 3,
   "id": "1cb36636",
   "metadata": {},
   "outputs": [
    {
     "name": "stdout",
     "output_type": "stream",
     "text": [
      "1\n",
      "10 3\n",
      "1 2 3 4 5 6 7 8 9 10\n",
      "#1 21\n"
     ]
    }
   ],
   "source": [
    "T = int(input())\n",
    "\n",
    "for t in range(1, T+1):\n",
    "    \n",
    "    N, M = map(int,input().split())\n",
    "    \n",
    "    lst = list(map(int,input().split()))\n",
    "      \n",
    "    lst.sort(reverse=True)\n",
    "    max_lst = lst[:M]\n",
    "    min_lst = lst[-M:]\n",
    "    \n",
    "    print('#{0} {1}'.format(t,sum(max_lst) - sum(min_lst)))"
   ]
  }
 ],
 "metadata": {
  "kernelspec": {
   "display_name": "Python 3 (ipykernel)",
   "language": "python",
   "name": "python3"
  },
  "language_info": {
   "codemirror_mode": {
    "name": "ipython",
    "version": 3
   },
   "file_extension": ".py",
   "mimetype": "text/x-python",
   "name": "python",
   "nbconvert_exporter": "python",
   "pygments_lexer": "ipython3",
   "version": "3.11.2"
  }
 },
 "nbformat": 4,
 "nbformat_minor": 5
}
