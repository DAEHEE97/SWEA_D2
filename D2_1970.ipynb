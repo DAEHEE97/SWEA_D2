{
 "cells": [
  {
   "cell_type": "markdown",
   "metadata": {},
   "source": [
    "# 1970. 쉬운 거스름돈 \n",
    "\n",
    "\n",
    "\n",
    "우리나라 화폐 ‘원’은 금액이 높은 돈을 우선적으로 계산할 때 돈의 개수가 가장 최소가 된다.\n",
    "\n",
    "S마켓에서 사용하는 돈의 종류는 다음과 같다.\n",
    "50,000 원\n",
    "10,000 원\n",
    "5,000 원\n",
    "1,000 원\n",
    "500 원\n",
    "100 원\n",
    "50 원\n",
    "10 원\n",
    "\n",
    "S마켓에서 손님에게 거슬러 주어야 할 금액 N이 입력되면 돈의 최소 개수로 거슬러 주기 위하여 각 종류의 돈이 몇 개씩 필요한지 출력하라.\n",
    "\n",
    "\n",
    "## [예제]\n",
    "\n",
    "N이 32850일 경우,\n",
    "50,000 원 : 0개\n",
    "10,000 원 : 3개\n",
    "5,000 원 : 0개\n",
    "1,000 원 : 2개\n",
    "500 원 : 1개\n",
    "100 원 : 3개\n",
    "50 원 : 1개\n",
    "10 원 : 0개\n",
    "\n",
    "\n",
    "## [제약 사항]\n",
    "\n",
    "1. N은 10이상 1,000,000이하의 정수이다. (10 ≤ N ≤ 1,000,000)\n",
    "\n",
    "2. N의 마지막 자릿수는 항상 0이다. (ex : 32850)\n",
    "\n",
    "\n",
    "## [입력]\n",
    "\n",
    "가장 첫 줄에는 테스트 케이스의 개수 T가 주어지고, 그 아래로 각 테스트 케이스가 주어진다.\n",
    "\n",
    "각 테스트 케이스에는 N이 주어진다.\n",
    "\n",
    "\n",
    "## [출력]\n",
    "\n",
    "각 줄은 '#t'로 시작하고, 다음줄에 각 돈의 종류마다 필요한 개수를 빈칸을 사이에 두고 출력한다.\n",
    "\n",
    "(t는 테스트 케이스의 번호를 의미하며 1부터 시작한다.)\n"
   ]
  },
  {
   "cell_type": "markdown",
   "metadata": {},
   "source": [
    "---"
   ]
  },
  {
   "cell_type": "markdown",
   "metadata": {},
   "source": [
    "## Memo\n",
    "\n",
    "- 거스름 돈 \n",
    "\n",
    "- 금액이 높은 돈이 작은 돈들의 배수로 처리 가능 "
   ]
  },
  {
   "cell_type": "markdown",
   "metadata": {},
   "source": [
    "---"
   ]
  },
  {
   "cell_type": "code",
   "execution_count": 1,
   "metadata": {},
   "outputs": [
    {
     "name": "stdout",
     "output_type": "stream",
     "text": [
      "2\n",
      "32850\n",
      "#1\n",
      "0 3 0 2 1 3 1 0\n",
      "160\n",
      "#2\n",
      "0 0 0 0 0 1 1 1\n"
     ]
    }
   ],
   "source": [
    "money = [50000,10000,5000,1000,500,100,50,10]\n",
    "\n",
    "T = int(input())\n",
    "\n",
    "\n",
    "for t in range(1,T+1):\n",
    "    \n",
    "    lst = []\n",
    "    \n",
    "    N = int(input())\n",
    "    # 반복 문을 돌면서 N이 나눠질때 몫 lst.append\n",
    "    # 나머지 남은 돈 N으로 다시 초기화\n",
    "    \n",
    "    for i in money:\n",
    "        m,d = divmod(N,i)\n",
    "        \n",
    "        lst.append(m)\n",
    "        N = d\n",
    "    print('#{0}'.format(t))\n",
    "    print(*lst)\n",
    "    \n",
    "    "
   ]
  },
  {
   "cell_type": "markdown",
   "metadata": {},
   "source": [
    "---"
   ]
  },
  {
   "cell_type": "code",
   "execution_count": 2,
   "metadata": {},
   "outputs": [
    {
     "data": {
      "text/plain": [
       "(2, 5)"
      ]
     },
     "execution_count": 2,
     "metadata": {},
     "output_type": "execute_result"
    }
   ],
   "source": [
    "25 // 10, 25 % 10"
   ]
  },
  {
   "cell_type": "code",
   "execution_count": 3,
   "metadata": {},
   "outputs": [
    {
     "data": {
      "text/plain": [
       "(2, 5)"
      ]
     },
     "execution_count": 3,
     "metadata": {},
     "output_type": "execute_result"
    }
   ],
   "source": [
    "divmod(25,10)"
   ]
  },
  {
   "cell_type": "markdown",
   "metadata": {},
   "source": [
    "---"
   ]
  }
 ],
 "metadata": {
  "hide_input": false,
  "kernelspec": {
   "display_name": "Python 3 (ipykernel)",
   "language": "python",
   "name": "python3"
  },
  "language_info": {
   "codemirror_mode": {
    "name": "ipython",
    "version": 3
   },
   "file_extension": ".py",
   "mimetype": "text/x-python",
   "name": "python",
   "nbconvert_exporter": "python",
   "pygments_lexer": "ipython3",
   "version": "3.11.2"
  },
  "toc": {
   "base_numbering": 1,
   "nav_menu": {},
   "number_sections": true,
   "sideBar": true,
   "skip_h1_title": false,
   "title_cell": "Table of Contents",
   "title_sidebar": "Contents",
   "toc_cell": false,
   "toc_position": {},
   "toc_section_display": true,
   "toc_window_display": false
  }
 },
 "nbformat": 4,
 "nbformat_minor": 4
}
