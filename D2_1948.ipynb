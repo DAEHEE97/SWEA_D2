{
 "cells": [
  {
   "cell_type": "markdown",
   "metadata": {},
   "source": [
    "# 1948. 날짜 계산기"
   ]
  },
  {
   "cell_type": "markdown",
   "metadata": {},
   "source": [
    "\n",
    "\n",
    "- 월 일로 이루어진 날짜를 2개 입력 받아, 두 번째 날짜가 첫 번째 날짜의 며칠째인지 출력하는 프로그램을 작성하라.\n",
    "\n",
    "\n",
    "## [제약 사항]\n",
    "\n",
    "월은 1 이상 12 이하의 정수이다. 각 달의 마지막 날짜는 다음과 같다.\n",
    "\n",
    "1/31, 2/28, 3/31, 4/30, 5/31, 6/30, 7/31, 8/31, 9/30, 10/31, 11/30, 12/31\n",
    "\n",
    "- 31 : 1 3 5 7 8 10 12\n",
    "\n",
    "- 30 : 4 6 9 11\n",
    "\n",
    "- 28 : 2 \n",
    "\n",
    "\n",
    "두 번째 날짜가 첫 번째 날짜보다 항상 크게 주어진다.\n",
    "\n",
    "\n",
    "## [입력]\n",
    "\n",
    "가장 첫 줄에는 테스트 케이스의 개수 T가 주어지고, 그 아래로 각 테스트 케이스가 주어진다.\n",
    "\n",
    "각 테스트 케이스의 첫 번째 줄에는 4개의 수가 주어진다.\n",
    "\n",
    "첫 번째 수가 월을 나타내고 두 번째 수가 일을 나타낸다. 그 다음 같은 형식으로 두 번째 날짜가 주어진다.\n",
    "\n",
    "\n",
    "3 \n",
    "\n",
    "3 1 3 31\n",
    "\n",
    "5 5 8 15\n",
    "\n",
    "7 17 12 24  \n",
    " \n",
    "\n",
    "\n",
    "\n",
    "## [출력]\n",
    "\n",
    "출력의 각 줄은 '#t'로 시작하고, 공백을 한 칸 둔 다음 정답을 출력한다. (t는 테스트 케이스의 번호를 의미하며 1부터 시작한다.)\n",
    "\n",
    "\n"
   ]
  },
  {
   "cell_type": "markdown",
   "metadata": {},
   "source": [
    "---"
   ]
  },
  {
   "cell_type": "markdown",
   "metadata": {},
   "source": [
    "## MEMO\n",
    "\n",
    "\n",
    "- 날짜 며칠째 출력시, 까지 날짜는 그냥 추가해야함, 앞에달은 뒤에서 빼는거고 \n",
    "\n",
    "- 필요한 값을 리스트로 미리 lst로 작성 후 indexing, 순서대로 간편하게 하려고 0 번자리 0 추가\n",
    "\n",
    "\n",
    "\n",
    "1. 같은 달이면 단순 -\n",
    "\n",
    "2. 두번 째 달이 무조건 많은 상황이므로, 현재 달(day -) + 사이달 + 이후 달(그냥 +)\n",
    "\n",
    "3. 사이달 계산"
   ]
  },
  {
   "cell_type": "markdown",
   "metadata": {},
   "source": [
    "---"
   ]
  },
  {
   "cell_type": "code",
   "execution_count": 10,
   "metadata": {},
   "outputs": [
    {
     "name": "stdout",
     "output_type": "stream",
     "text": [
      "3\n",
      "3 1 3 31\n",
      "#1 31\n",
      "5 5 8 15\n",
      "#2 103\n",
      "7 17 12 24\n",
      "#3 161\n"
     ]
    }
   ],
   "source": [
    "# 1/31, 2/28, 3/31, 4/30, 5/31, 6/30, 7/31, 8/31, 9/30, 10/31, 11/30, 12/31\n",
    "\n",
    "# 5 5 8 15\n",
    "lst_day = [0, 31, 28, 31, 30, 31, 30, 31, 31, 30, 31, 30, 31]\n",
    "\n",
    "T = int(input())\n",
    "\n",
    "\n",
    "lst_result = []\n",
    "\n",
    "\n",
    "for t in range(T):\n",
    "    \n",
    "    # 입력 \n",
    "    lst = list(map(int,input().split()))\n",
    "    \n",
    "    # 달이 같은 경우\n",
    "    if (lst[0]==lst[2]): \n",
    "        print( '#{0} {1}'.format(t+1, lst[3] - lst[1] +1 ) )\n",
    "        \n",
    "    else:\n",
    "        # 사이 달 날짜 리스트\n",
    "        lst_b = list(lst_day[i] for i in range(lst[0]+1,lst[2])) \n",
    "        \n",
    "        # 날짜 합 \n",
    "        s = ( lst_day[ lst[0] ] - lst[1] ) + sum(lst_b) + lst[3]+ 1 \n",
    "        \n",
    "        print( '#{0} {1}'.format(t+1, s) )\n",
    "    "
   ]
  }
 ],
 "metadata": {
  "hide_input": false,
  "kernelspec": {
   "display_name": "Python 3",
   "language": "python",
   "name": "python3"
  },
  "language_info": {
   "codemirror_mode": {
    "name": "ipython",
    "version": 3
   },
   "file_extension": ".py",
   "mimetype": "text/x-python",
   "name": "python",
   "nbconvert_exporter": "python",
   "pygments_lexer": "ipython3",
   "version": "3.8.5"
  },
  "toc": {
   "base_numbering": 1,
   "nav_menu": {},
   "number_sections": true,
   "sideBar": true,
   "skip_h1_title": false,
   "title_cell": "Table of Contents",
   "title_sidebar": "Contents",
   "toc_cell": false,
   "toc_position": {},
   "toc_section_display": true,
   "toc_window_display": false
  }
 },
 "nbformat": 4,
 "nbformat_minor": 4
}
