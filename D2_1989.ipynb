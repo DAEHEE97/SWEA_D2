{
 "cells": [
  {
   "cell_type": "markdown",
   "metadata": {},
   "source": [
    "# 1989. 초심자의 회문 검사\n",
    "\n",
    "\n",
    "\"level\" 과 같이 거꾸로 읽어도 제대로 읽은 것과 같은 문장이나 낱말을 회문(回文, palindrome)이라 한다.\n",
    "\n",
    "단어를 입력 받아 회문이면 1을 출력하고, 아니라면 0을 출력하는 프로그램을 작성하라.\n",
    "\n",
    "\n",
    "## [제약 사항]\n",
    "\n",
    "각 단어의 길이는 3 이상 10 이하이다.\n",
    "\n",
    "\n",
    "## [입력]\n",
    "\n",
    "가장 첫 줄에는 테스트 케이스의 개수 T가 주어지고, 그 아래로 각 테스트 케이스가 주어진다.\n",
    "\n",
    "각 테스트 케이스의 첫 번째 줄에 하나의 단어가 주어진다.\n",
    "\n",
    "\n",
    "## [출력]\n",
    "\n",
    "출력의 각 줄은 '#t'로 시작하고, 공백을 한 칸 둔 다음 정답을 출력한다.\n",
    "\n",
    "(t는 테스트 케이스의 번호를 의미하며 1부터 시작한다.)"
   ]
  },
  {
   "cell_type": "markdown",
   "metadata": {},
   "source": [
    "---"
   ]
  },
  {
   "cell_type": "markdown",
   "metadata": {},
   "source": [
    "## Memo\n",
    "\n",
    "\n",
    "\n",
    "- example 돌려보니, 글자 수 가 홀수 짝수 에 따라 다름. 근데 // 연산 해보니 한번에 작성 가능\n",
    "\n",
    "\n",
    "- for 용도는 **횟수** or len으로 받아서 **idx 이동** 인데, 전체 길이를 이용해서 둘다 사용 했음.\n",
    "\n",
    "```.py\n",
    "for i in range(len(lst) // 2):\n",
    "    if(lst[i]` == `lst[len(lst) - i -1]):\n",
    "        pass\n",
    "    \n",
    "```\n",
    "\n",
    "- 이제 N번 반복하는데, 해당 조건이 N번 계속 맞아야 통과되는 상황 pass \n",
    "\n",
    "    1. flag 구조\n",
    "\n",
    "    2. 금 한바퀴 돌았을때 ok 라면 , 할게 없는 상황이였음 한바퀴 돌았는데 ? `continue` 로 통과 \n",
    "    \n",
    "    2. `state` 선언해서, OK라면, `state = 0`, 아니라면 `state = 1` 처리 계속 반복 돌도록 할수 있음\n",
    "\n",
    "\n",
    "- pop(0) == pop(), pop은 진짜 꺼냄. 원소 사라짐 단순 출력 아님\n"
   ]
  },
  {
   "cell_type": "markdown",
   "metadata": {},
   "source": [
    "---"
   ]
  },
  {
   "cell_type": "markdown",
   "metadata": {},
   "source": [
    "## flag"
   ]
  },
  {
   "cell_type": "code",
   "execution_count": 1,
   "metadata": {},
   "outputs": [
    {
     "name": "stdout",
     "output_type": "stream",
     "text": [
      "3\n",
      "level\n",
      "#1 1\n",
      "ssg\n",
      "#2 0\n",
      "appppa\n",
      "#3 1\n"
     ]
    }
   ],
   "source": [
    "T = int(input())\n",
    "\n",
    "for t in range(1,T+1):\n",
    "    \n",
    "    s = list(input())\n",
    "    \n",
    "    # 문자 길이 홀 짝 만큼 검사\n",
    "    \n",
    "    for i in range((len(s)//2)):     \n",
    "        \n",
    "        if s.pop() == s.pop(0):\n",
    "            flag  = True\n",
    "        \n",
    "        else:\n",
    "            flag = False\n",
    "            print('#{0} {1}'.format(t,0))\n",
    "            break\n",
    "            \n",
    "    if(flag == True):  \n",
    "        print('#{0} {1}'.format(t,1))\n",
    "\n",
    "        \n",
    "    "
   ]
  },
  {
   "cell_type": "markdown",
   "metadata": {},
   "source": [
    "---"
   ]
  },
  {
   "cell_type": "markdown",
   "metadata": {},
   "source": [
    "## `state`"
   ]
  },
  {
   "cell_type": "code",
   "execution_count": 2,
   "metadata": {},
   "outputs": [],
   "source": [
    "def Palindrome (s):\n",
    "    \n",
    "    length = len(s)\n",
    "    \n",
    "    for i in range(length//2): # 3번 0 1 2 \n",
    "        if s[i] == s[length-i-1]:\n",
    "            state = 1\n",
    "        else:\n",
    "            state = 0\n",
    "            break;\n",
    "    \n",
    "    return state\n",
    "    \n",
    "    "
   ]
  },
  {
   "cell_type": "markdown",
   "metadata": {},
   "source": [
    "---"
   ]
  },
  {
   "cell_type": "markdown",
   "metadata": {},
   "source": [
    "## `continue`"
   ]
  },
  {
   "cell_type": "code",
   "execution_count": 3,
   "metadata": {},
   "outputs": [],
   "source": [
    "def Palindrome (s):\n",
    "    length = len(s)\n",
    "    \n",
    "    for i in range(length//2): # 3번 0 1 2 \n",
    "        if s[i] == s[length-i-1]:\n",
    "            continue\n",
    "        else:\n",
    "            return 0\n",
    "    \n",
    "    return 1\n",
    "    \n",
    "    "
   ]
  },
  {
   "cell_type": "code",
   "execution_count": 4,
   "metadata": {},
   "outputs": [
    {
     "name": "stdout",
     "output_type": "stream",
     "text": [
      "3\n",
      "egg\n",
      "#1 0\n",
      "ppaapp\n",
      "#2 1\n",
      "wowo\n",
      "#3 0\n"
     ]
    }
   ],
   "source": [
    "T = int(input())\n",
    "\n",
    "for t in range(T):\n",
    "    \n",
    "    string = input()\n",
    "    \n",
    "    print('#{0} {1}'.format(t+1,Palindrome(string)))"
   ]
  }
 ],
 "metadata": {
  "hide_input": false,
  "kernelspec": {
   "display_name": "Python 3 (ipykernel)",
   "language": "python",
   "name": "python3"
  },
  "language_info": {
   "codemirror_mode": {
    "name": "ipython",
    "version": 3
   },
   "file_extension": ".py",
   "mimetype": "text/x-python",
   "name": "python",
   "nbconvert_exporter": "python",
   "pygments_lexer": "ipython3",
   "version": "3.11.2"
  },
  "toc": {
   "base_numbering": 1,
   "nav_menu": {},
   "number_sections": true,
   "sideBar": true,
   "skip_h1_title": false,
   "title_cell": "Table of Contents",
   "title_sidebar": "Contents",
   "toc_cell": false,
   "toc_position": {},
   "toc_section_display": true,
   "toc_window_display": true
  }
 },
 "nbformat": 4,
 "nbformat_minor": 4
}
