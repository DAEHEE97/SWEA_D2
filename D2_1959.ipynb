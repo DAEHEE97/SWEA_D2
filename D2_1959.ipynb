{
 "cells": [
  {
   "cell_type": "markdown",
   "metadata": {},
   "source": [
    "# 1959. 두 개의 숫자열\n",
    "\n",
    "N 개의 숫자로 구성된 숫자열 Ai (i=1~N) 와 M 개의 숫자로 구성된 숫자열 Bj (j=1~M) 가 있다.\n",
    "\n",
    "아래는 N =3 인 Ai 와 M = 5 인 Bj 의 예이다.\n",
    "\n",
    "Ai 나 Bj 를 자유롭게 움직여서 숫자들이 서로 마주보는 위치를 변경할 수 있다.\n",
    "\n",
    "단, 더 긴 쪽의 양끝을 벗어나서는 안 된다."
   ]
  },
  {
   "cell_type": "markdown",
   "metadata": {},
   "source": [
    "\n",
    "## [제약 사항]\n",
    "\n",
    "N 과 M은 3 이상 20 이하이다.\n",
    "\n",
    "\n",
    "## [입력]\n",
    "\n",
    "가장 첫 줄에는 테스트 케이스의 개수 T가 주어지고, 그 아래로 각 테스트 케이스가 주어진다.\n",
    "\n",
    "각 테스트 케이스의 첫 번째 줄에 N 과 M 이 주어지고,\n",
    "\n",
    "두 번째 줄에는 Ai,\n",
    "\n",
    "세 번째 줄에는 Bj 가 주어진다.\n",
    "\n",
    "## [출력]\n",
    "\n",
    "출력의 각 줄은 '#t'로 시작하고, 공백을 한 칸 둔 다음 정답을 출력한다.\n",
    "\n",
    "(t는 테스트 케이스의 번호를 의미하며 1부터 시작한다.)"
   ]
  },
  {
   "cell_type": "markdown",
   "metadata": {},
   "source": [
    "---"
   ]
  },
  {
   "cell_type": "markdown",
   "metadata": {},
   "source": [
    "## Memo\n",
    "\n",
    "- lst 원소들 끼리 곱 의 합 + 이동하면서 \n",
    "\n",
    "1. 이동 부분을 0으로 처리해서 곱\n",
    "\n",
    "2. idx 처리\n"
   ]
  },
  {
   "cell_type": "markdown",
   "metadata": {},
   "source": [
    "---"
   ]
  },
  {
   "cell_type": "markdown",
   "metadata": {},
   "source": [
    "## insert(idx,v)\n",
    "\n",
    "- lst 길이가 작은 lst에 0을 insert 하면서, 서로 같은 길이 만큼 만의 idx끼리 곱한 값을 lst로 반환 후, sum 함수로 합을 구함."
   ]
  },
  {
   "cell_type": "code",
   "execution_count": 1,
   "metadata": {},
   "outputs": [
    {
     "name": "stdout",
     "output_type": "stream",
     "text": [
      "1\n",
      "3 5\n",
      "1 5 3\n",
      "3 6 -7 5 4\n",
      "#1 30\n"
     ]
    }
   ],
   "source": [
    "T = int(input())\n",
    "\n",
    "for t in range(1,T+1):\n",
    "    \n",
    "    N,M = map(int,input().split())\n",
    "    \n",
    "    l1 = list(map(int,input().split()))\n",
    "        \n",
    "    l2 = list(map(int,input().split()))\n",
    "    \n",
    "    lst_sum = []\n",
    "    \n",
    "    if N < M :\n",
    "        for _ in range(M-N+1):\n",
    "            lst_sum.append(sum([ l1[i] * l2[i] for i in range(len(l1))]))\n",
    "            l1.insert(0,0)\n",
    "    \n",
    "    elif N > M:\n",
    "        for _ in range(N-M+1):\n",
    "            lst_sum.append(sum([ l1[i] * l2[i] for i in range(len(l2))]))\n",
    "            l2.insert(0,0)\n",
    "            \n",
    "    else:\n",
    "        lst_sum.append(sum([ l1[i] * l2[i] for i in range(len(l2))]))\n",
    "        \n",
    "    print('#{0} {1}'.format(t,max(lst_sum)))\n",
    "    \n",
    "        \n",
    "    \n",
    "    "
   ]
  },
  {
   "cell_type": "markdown",
   "metadata": {},
   "source": [
    "---"
   ]
  },
  {
   "cell_type": "markdown",
   "metadata": {},
   "source": [
    "## idx i+j 처리"
   ]
  },
  {
   "cell_type": "code",
   "execution_count": 2,
   "metadata": {},
   "outputs": [
    {
     "name": "stdout",
     "output_type": "stream",
     "text": [
      "0 0 0\n",
      "0 1 1\n",
      "0 2 2\n",
      "1 0 1\n",
      "1 1 2\n",
      "1 2 3\n",
      "2 0 2\n",
      "2 1 3\n",
      "2 2 4\n"
     ]
    }
   ],
   "source": [
    "# i 000 111 222 \n",
    "# j 012 012 012\n",
    "\n",
    "# t 012 123 234\n",
    "\n",
    "for i in range(3):\n",
    "    for j in range(3):\n",
    "        tmp = i+j\n",
    "        print(i,j,tmp)"
   ]
  },
  {
   "cell_type": "markdown",
   "metadata": {},
   "source": [
    "---"
   ]
  },
  {
   "cell_type": "code",
   "execution_count": 3,
   "metadata": {},
   "outputs": [
    {
     "name": "stdout",
     "output_type": "stream",
     "text": [
      "1\n",
      "3 5\n",
      "1 5 3\n",
      "3 6 -7 5 4\n",
      "#1 30\n"
     ]
    }
   ],
   "source": [
    "T = int(input())\n",
    "\n",
    "for t in range(1,T+1):\n",
    "    \n",
    "    N,M = map(int,input().split())\n",
    "    \n",
    "    l1 = list(map(int,input().split()))\n",
    "        \n",
    "    l2 = list(map(int,input().split()))\n",
    "    \n",
    "    lst_sum = []\n",
    "    \n",
    "    if N < M :\n",
    "        for i in range(M-N+1):\n",
    "            lst = []\n",
    "            \n",
    "            for j in range(N):\n",
    "                tmp = i+j\n",
    "                lst.append(l1[j]*l2[tmp])\n",
    "                \n",
    "            lst_sum.append(sum(lst))\n",
    "            \n",
    "    print('#{0} {1}'.format(t,max(lst_sum)))"
   ]
  }
 ],
 "metadata": {
  "hide_input": false,
  "kernelspec": {
   "display_name": "Python 3 (ipykernel)",
   "language": "python",
   "name": "python3"
  },
  "language_info": {
   "codemirror_mode": {
    "name": "ipython",
    "version": 3
   },
   "file_extension": ".py",
   "mimetype": "text/x-python",
   "name": "python",
   "nbconvert_exporter": "python",
   "pygments_lexer": "ipython3",
   "version": "3.11.2"
  },
  "toc": {
   "base_numbering": 1,
   "nav_menu": {},
   "number_sections": true,
   "sideBar": true,
   "skip_h1_title": false,
   "title_cell": "Table of Contents",
   "title_sidebar": "Contents",
   "toc_cell": false,
   "toc_position": {},
   "toc_section_display": true,
   "toc_window_display": false
  }
 },
 "nbformat": 4,
 "nbformat_minor": 4
}
