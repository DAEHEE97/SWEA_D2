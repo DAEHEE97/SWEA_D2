{
 "cells": [
  {
   "cell_type": "markdown",
   "metadata": {},
   "source": [
    "# 1940. 가랏! RC카!"
   ]
  },
  {
   "cell_type": "markdown",
   "metadata": {},
   "source": [
    "RC (Radio Control) 카의 이동거리를 계산하려고 한다.\n",
    "\n",
    "입력으로 매 초마다 아래와 같은 command 가 정수로 주어진다.\n",
    "\n",
    "0 : 현재 속도 유지.\n",
    "\n",
    "1 : 가속\n",
    "\n",
    "2 : 감속\n",
    "\n",
    "위 command 중, 가속(1) 또는 감속(2) 의 경우 가속도의 값이 추가로 주어진다.\n",
    "\n",
    "가속도의 단위는, m/s2 이며, 모두 양의 정수로 주어진다.\n",
    "\n",
    "입력으로 주어진 N 개의 command 를 모두 수행했을 때, N 초 동안 이동한 거리를 계산하는 프로그램을 작성하라.\n",
    "\n",
    "- RC 카의 초기 속도는 0 m/s 이다.\n",
    "\n",
    "## [예제]\n",
    "\n",
    "아래 예제 입력에서 정답은 3 이 된다.\n",
    "\n",
    "입력         시간     RC 카의 속도 RC     카의 이동거리\n",
    "\n",
    "1 2          1 sec          2 m/s                    2 m\n",
    "\n",
    "2 1          2 sec          1 m/s                    3 m\n",
    "\n",
    "\n",
    "## [제약사항]\n",
    "\n",
    "1. N은 2이상 30이하의 정수이다. (2 ≤ N ≤ 30)\n",
    "\n",
    "\n",
    "2. 가속도의 값은 1 m/s2 혹은 2 m/s2 이다.\n",
    "\n",
    "\n",
    "- 3. 현재 속도보다 감속할 속도가 더 클 경우, 속도는 0 m/s 가 된다.\n",
    "\n",
    "\n",
    "## [입력]\n",
    "\n",
    "입력은 첫 줄에 총 테스트 케이스의 개수 T, 다음 줄부터 각 테스트 케이스가 주어진다.\n",
    "\n",
    "\n",
    "테스트 케이스 첫 줄에는 Command 의 수 N이 주어지고, 둘째 줄부터, 매 줄마다 각각의 Command가 주어진다.\n",
    "\n",
    "\n",
    "## [출력]\n",
    "\n",
    "테스트 케이스 t에 대한 결과는 “#t”을 찍고, 한 칸 띄고, 정답을 출력한다.\n",
    "\n",
    "(t는 테스트 케이스의 번호를 의미하며 1부터 시작한다.)\n",
    "\n"
   ]
  },
  {
   "cell_type": "markdown",
   "metadata": {},
   "source": [
    "---"
   ]
  },
  {
   "cell_type": "markdown",
   "metadata": {},
   "source": [
    "## MEMO\n",
    "\n",
    "\n",
    "\n",
    "\n",
    "\n",
    "- cmd에 따라 이전 v 비교 필요 하므로, tmp 변수 선언해서 처리(초기화 하는것도 잊지 말자)\n",
    "\n",
    "- cmd_lst, v_lst 생성, append, 꺼내면서 처리 - 이게 더 복잡\n",
    "\n",
    "- 하나씩 이전꺼 저장하면서 처리\n",
    "\n",
    "\n",
    "\n",
    "- ex) 던지면서 처리\n",
    "\n",
    "case 1. 0인 경우 이전 명령의 속도 유지 이므로 저장 후 불러오기\n",
    "\n",
    "case 2. 가속 1인 경우 : (이전 v + lst[1]) append\n",
    "\n",
    "case 3. 감속 2인 경우 : lst[1] > 이전 v == 0 \n",
    "\n",
    "case 4. 감속 2인 경우 : else ( 이전 v - lst[1] )"
   ]
  },
  {
   "cell_type": "markdown",
   "metadata": {},
   "source": [
    "---"
   ]
  },
  {
   "cell_type": "code",
   "execution_count": 1,
   "metadata": {},
   "outputs": [
    {
     "name": "stdout",
     "output_type": "stream",
     "text": [
      "0\n"
     ]
    },
    {
     "ename": "ValueError",
     "evalue": "not enough values to unpack (expected 2, got 1)",
     "output_type": "error",
     "traceback": [
      "\u001b[0;31m---------------------------------------------------------------------------\u001b[0m",
      "\u001b[0;31mValueError\u001b[0m                                Traceback (most recent call last)",
      "Cell \u001b[0;32mIn[1], line 2\u001b[0m\n\u001b[1;32m      1\u001b[0m \u001b[38;5;66;03m# error not enough values to unpack\u001b[39;00m\n\u001b[0;32m----> 2\u001b[0m cmd,v \u001b[38;5;241m=\u001b[39m \u001b[38;5;28mmap\u001b[39m(\u001b[38;5;28mint\u001b[39m,\u001b[38;5;28minput\u001b[39m()\u001b[38;5;241m.\u001b[39msplit()) \n",
      "\u001b[0;31mValueError\u001b[0m: not enough values to unpack (expected 2, got 1)"
     ]
    }
   ],
   "source": [
    "# error not enough values to unpack\n",
    "cmd,v = map(int,input().split()) "
   ]
  },
  {
   "cell_type": "markdown",
   "metadata": {},
   "source": [
    "---"
   ]
  },
  {
   "cell_type": "code",
   "execution_count": 2,
   "metadata": {},
   "outputs": [
    {
     "name": "stdout",
     "output_type": "stream",
     "text": [
      "0\n"
     ]
    },
    {
     "ename": "IndexError",
     "evalue": "list index out of range",
     "output_type": "error",
     "traceback": [
      "\u001b[0;31m---------------------------------------------------------------------------\u001b[0m",
      "\u001b[0;31mIndexError\u001b[0m                                Traceback (most recent call last)",
      "Cell \u001b[0;32mIn[2], line 6\u001b[0m\n\u001b[1;32m      4\u001b[0m cmd_lst \u001b[38;5;241m=\u001b[39m []\n\u001b[1;32m      5\u001b[0m v_lst \u001b[38;5;241m=\u001b[39m []\n\u001b[0;32m----> 6\u001b[0m cmd_lst\u001b[38;5;241m.\u001b[39mappend(lst[\u001b[38;5;241m0\u001b[39m]), v_lst\u001b[38;5;241m.\u001b[39mappend(\u001b[43mlst\u001b[49m\u001b[43m[\u001b[49m\u001b[38;5;241;43m1\u001b[39;49m\u001b[43m]\u001b[49m) \n",
      "\u001b[0;31mIndexError\u001b[0m: list index out of range"
     ]
    }
   ],
   "source": [
    "# error lst index out of range\n",
    "lst = list(map(int,input().split()))\n",
    "\n",
    "cmd_lst = []\n",
    "v_lst = []\n",
    "cmd_lst.append(lst[0]), v_lst.append(lst[1]) "
   ]
  },
  {
   "cell_type": "markdown",
   "metadata": {},
   "source": [
    "---"
   ]
  },
  {
   "cell_type": "code",
   "execution_count": 3,
   "metadata": {},
   "outputs": [
    {
     "name": "stdout",
     "output_type": "stream",
     "text": [
      "1\n",
      "2\n",
      "1 2\n",
      "2 1\n",
      "#1 3\n"
     ]
    }
   ],
   "source": [
    "T = int(input())\n",
    "\n",
    "for t in range(1,T+1):\n",
    "    \n",
    "    N = int(input())\n",
    "    \n",
    "    v_c = 0\n",
    "    \n",
    "    tmp = 0\n",
    "    \n",
    "    dis = 0\n",
    "\n",
    "    \n",
    "    for _ in range(N):\n",
    "\n",
    "        # cmd, v\n",
    "        lst = list(map(int,input().split()))\n",
    "    \n",
    "        if lst[0] == 1 :\n",
    "            v_c = v_c + lst[1]\n",
    "            tmp = v_c\n",
    "\n",
    "        elif lst[0] == 0:\n",
    "            v_c = tmp\n",
    "\n",
    "        elif lst[0] == 2 and lst[1] > v_c :\n",
    "            v_c = 0\n",
    "            tmp = v_c\n",
    "\n",
    "        elif lst[0] == 2 :\n",
    "            v_c = v_c - lst[1]\n",
    "            tmp = v_c\n",
    "\n",
    "        dis = dis + v_c\n",
    "    \n",
    "    print('#{0} {1}'.format(t,dis))\n",
    "    "
   ]
  },
  {
   "cell_type": "markdown",
   "metadata": {},
   "source": [
    "---"
   ]
  }
 ],
 "metadata": {
  "hide_input": false,
  "kernelspec": {
   "display_name": "Python 3 (ipykernel)",
   "language": "python",
   "name": "python3"
  },
  "language_info": {
   "codemirror_mode": {
    "name": "ipython",
    "version": 3
   },
   "file_extension": ".py",
   "mimetype": "text/x-python",
   "name": "python",
   "nbconvert_exporter": "python",
   "pygments_lexer": "ipython3",
   "version": "3.11.2"
  },
  "toc": {
   "base_numbering": 1,
   "nav_menu": {},
   "number_sections": true,
   "sideBar": true,
   "skip_h1_title": false,
   "title_cell": "Table of Contents",
   "title_sidebar": "Contents",
   "toc_cell": false,
   "toc_position": {},
   "toc_section_display": true,
   "toc_window_display": false
  }
 },
 "nbformat": 4,
 "nbformat_minor": 4
}
