{
 "cells": [
  {
   "cell_type": "markdown",
   "id": "e3e9e1cf",
   "metadata": {},
   "source": [
    "#  5105. [파이썬 S/W 문제해결 기본] 6일차 - 미로의 거리 \n",
    "\n",
    "\n",
    "NxN 크기의 미로에서 출발지 목적지가 주어진다.\n",
    "\n",
    "이때 최소 몇 개의 칸을 지나면 출발지에서 도착지에 다다를 수 있는지 알아내는 프로그램을 작성하시오.\n",
    "\n",
    "경로가 있는 경우 출발에서 도착까지 가는데 지나야 하는 최소한의 칸 수를, 경로가 없는 경우 0을 출력한다.\n",
    "\n",
    "다음은 5x5 미로의 예이다. 1은 벽, 0은 통로를 나타내며 미로 밖으로 벗어나서는 안된다.\n",
    "\n",
    "```\n",
    "13101\n",
    "10101\n",
    "10101\n",
    "10101\n",
    "10021\n",
    "```\n",
    "\n",
    "마지막 줄의 2에서 출발해서 0인 통로를 따라 이동하면 맨 윗줄의 3에 5개의 칸을 지나 도착할 수 있다.\n",
    "\n",
    "\n",
    "## [입력]\n",
    "\n",
    "첫 줄에 테스트 케이스 개수 T가 주어진다.  1<=T<=50\n",
    "\n",
    "다음 줄부터 테스트 케이스의 별로 미로의 크기 N과 N개의 줄에 걸쳐 미로의 통로와 벽에 대한 정보가 주어진다. 5<=N<=100\n",
    "\n",
    "0은 통로, 1은 벽, 2는 출발, 3은 도착이다.\n",
    "\n",
    "## [출력]\n",
    "\n",
    "각 줄마다 \"#T\" (T는 테스트 케이스 번호)를 출력한 뒤, 답을 출력한다."
   ]
  },
  {
   "cell_type": "markdown",
   "id": "dff81d4d",
   "metadata": {},
   "source": [
    "---"
   ]
  },
  {
   "cell_type": "markdown",
   "id": "16d24b16",
   "metadata": {},
   "source": [
    "## Memo\n",
    "\n",
    "\n",
    "- 최단거리를 구해야 함. 총 이동 횟수를 구했음..\n",
    "\n",
    "- `v[n] = 1` 방문처리\n",
    "\n",
    "\n",
    "- `V[n] = V[c] + 1` 지나간 거리 대입\n",
    "    - 방문 칸수 v[e]\n",
    "    - 간선 개수 v[e] -1\n",
    "    - 시작지점, 도착지점 제외 v[e] -2\n"
   ]
  },
  {
   "cell_type": "markdown",
   "id": "53719515",
   "metadata": {},
   "source": [
    "---"
   ]
  },
  {
   "cell_type": "code",
   "execution_count": 1,
   "id": "4f2d490d",
   "metadata": {},
   "outputs": [
    {
     "name": "stdout",
     "output_type": "stream",
     "text": [
      "1\n",
      "5\n",
      "13101\n",
      "10101\n",
      "10101\n",
      "10101\n",
      "10021\n",
      "#1 7\n"
     ]
    }
   ],
   "source": [
    "from collections import deque\n",
    "\n",
    "\n",
    "def bfs(si,sj,ei,ejㄴ):\n",
    "    \n",
    "    q = deque()\n",
    "    #v = [ [0]*N for _ in range(N) ] # 방문 표시 리스트 도 2차원으로 생성\n",
    "    \n",
    "    q.append((si,sj))\n",
    "    v[si][sj] = 1\n",
    "    \n",
    "    \n",
    "    # q가 빌때까지 조건에 맞으면, append\n",
    "    # 조건: 4방향, 범위내, 방문x, arr 값 0,1 확인 (지나갈수 있는지)\n",
    "    while q:\n",
    "        \n",
    "        ci,cj = q.popleft()\n",
    "        \n",
    "        # 문제 처리\n",
    "        \n",
    "        if arr[ci][cj] == 3:\n",
    "            return v[ci][cj] \n",
    "        \n",
    "        for di,dj in ((-1,0),(1,0),(0,-1),(0,1)):\n",
    "            \n",
    "            ni, nj = ci+di, cj+dj\n",
    "            \n",
    "            # 이동 조건이 1이면 갈수 있는 이동 조건이 아니라, 1이 아니여야 함. 벽 = 1\n",
    "            if 0<=ni<N and 0<=nj<N and v[ni][nj]==0 and arr[ni][nj] != 1:\n",
    "                q.append((ni,nj))\n",
    "                v[ni][nj] = v[ci][cj] + 1\n",
    "                \n",
    "    \n",
    "    # bfs로 이동 가능한 노드들을 모두 방문했지만, 전체 문제 조건을 처리 못함. 즉 만나지 못하면\n",
    "    # 0 처리 로 종료\n",
    "    return 0\n",
    "        \n",
    "\n",
    "\n",
    "\n",
    "T = int(input())\n",
    "\n",
    "for t in range(1,T+1):\n",
    "    \n",
    "    N = int(input())\n",
    "        \n",
    "    arr = [ list(map(int,input())) for _ in range(N) ]\n",
    "    \n",
    "    # 출발 지점, si,sj, ei,ej 탐색\n",
    "    # idx 찾기 > range(len(arr)) 로 찾기\n",
    "    \n",
    "    for i in range(len(arr)):\n",
    "        \n",
    "        for j in range(len(arr)):\n",
    "            \n",
    "            if arr[i][j] == 2:\n",
    "                si,sj = i,j\n",
    "            \n",
    "            if arr[i][j] == 3:\n",
    "                ei,ej = i,j\n",
    "    \n",
    "    \n",
    "    v = [ [0]*N for _ in range(N) ] # 방문 표시 리스트 도 2차원으로 생성\n",
    "\n",
    "    ans = bfs(si,sj,ei,ej)\n",
    "        \n",
    "    print('#{0} {1}'.format(t,ans))"
   ]
  },
  {
   "cell_type": "markdown",
   "id": "3f72cbed",
   "metadata": {},
   "source": [
    "---"
   ]
  },
  {
   "cell_type": "code",
   "execution_count": 2,
   "id": "1be67c92",
   "metadata": {},
   "outputs": [
    {
     "data": {
      "text/plain": [
       "[[1, 3, 1, 0, 1],\n",
       " [1, 0, 1, 0, 1],\n",
       " [1, 0, 1, 0, 1],\n",
       " [1, 0, 1, 0, 1],\n",
       " [1, 0, 0, 2, 1]]"
      ]
     },
     "execution_count": 2,
     "metadata": {},
     "output_type": "execute_result"
    }
   ],
   "source": [
    "arr"
   ]
  },
  {
   "cell_type": "code",
   "execution_count": 3,
   "id": "5b2c3fea",
   "metadata": {},
   "outputs": [
    {
     "data": {
      "text/plain": [
       "(4, 3, 0, 1)"
      ]
     },
     "execution_count": 3,
     "metadata": {},
     "output_type": "execute_result"
    }
   ],
   "source": [
    "si,sj,ei,ej"
   ]
  },
  {
   "cell_type": "code",
   "execution_count": 4,
   "id": "0295e404",
   "metadata": {},
   "outputs": [
    {
     "data": {
      "text/plain": [
       "[[0, 7, 0, 5, 0],\n",
       " [0, 6, 0, 4, 0],\n",
       " [0, 5, 0, 3, 0],\n",
       " [0, 4, 0, 2, 0],\n",
       " [0, 3, 2, 1, 0]]"
      ]
     },
     "execution_count": 4,
     "metadata": {},
     "output_type": "execute_result"
    }
   ],
   "source": [
    "v"
   ]
  },
  {
   "cell_type": "markdown",
   "id": "e2b6f1c1",
   "metadata": {},
   "source": [
    "---"
   ]
  },
  {
   "cell_type": "markdown",
   "id": "ea62299d",
   "metadata": {},
   "source": [
    "## 정리\n",
    "\n",
    "\n",
    "- 이동 가능 조건 \n",
    "- 4방향, 범위내, 방문 x,  arr 값 0,1 확인 (지나갈수 있는지) + 특수값 0,1,2,3 존재 하므로,\n",
    "- 벽이 아닌 `arr[ni][nj] != 1 `로 해야함. ( `arr[ni][nj] == 0` 아니라 )\n",
    "\n",
    "```.py\n",
    "\n",
    "    # q가 빌때까지 조건에 맞으면, append\n",
    "    # 조건: 4방향, 범위내, 방문x, arr 값 0,1 확인 (지나갈수 있는지)\n",
    "    while q:\n",
    "        \n",
    "        ci,cj = q.popleft()\n",
    "        \n",
    "        # 문제 처리\n",
    "        \n",
    "        if arr[ci][cj] == 3:\n",
    "            return v[ci][cj] \n",
    "        \n",
    "        for di,dj in ((-1,0),(1,0),(0,-1),(0,1)):\n",
    "            \n",
    "            ni, nj = ci+di, cj+dj\n",
    "            \n",
    "            # 이동 조건이 1이면 갈수 있는 이동 조건이 아니라, 1이 아니여야 함. 벽 = 1\n",
    "            if 0<=ni<N and 0<=nj<N and v[ni][nj]==0 and arr[ni][nj] == 0:\n",
    "                q.append((ni,nj))\n",
    "                v[ni][nj] = v[ci][cj] + 1\n",
    "                \n",
    "\n",
    "```"
   ]
  }
 ],
 "metadata": {
  "kernelspec": {
   "display_name": "Python 3 (ipykernel)",
   "language": "python",
   "name": "python3"
  },
  "language_info": {
   "codemirror_mode": {
    "name": "ipython",
    "version": 3
   },
   "file_extension": ".py",
   "mimetype": "text/x-python",
   "name": "python",
   "nbconvert_exporter": "python",
   "pygments_lexer": "ipython3",
   "version": "3.8.16"
  },
  "toc": {
   "base_numbering": 1,
   "nav_menu": {},
   "number_sections": true,
   "sideBar": true,
   "skip_h1_title": false,
   "title_cell": "Table of Contents",
   "title_sidebar": "Contents",
   "toc_cell": false,
   "toc_position": {},
   "toc_section_display": true,
   "toc_window_display": false
  },
  "varInspector": {
   "cols": {
    "lenName": 16,
    "lenType": 16,
    "lenVar": 40
   },
   "kernels_config": {
    "python": {
     "delete_cmd_postfix": "",
     "delete_cmd_prefix": "del ",
     "library": "var_list.py",
     "varRefreshCmd": "print(var_dic_list())"
    },
    "r": {
     "delete_cmd_postfix": ") ",
     "delete_cmd_prefix": "rm(",
     "library": "var_list.r",
     "varRefreshCmd": "cat(var_dic_list()) "
    }
   },
   "types_to_exclude": [
    "module",
    "function",
    "builtin_function_or_method",
    "instance",
    "_Feature"
   ],
   "window_display": false
  }
 },
 "nbformat": 4,
 "nbformat_minor": 5
}
