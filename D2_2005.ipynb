{
 "cells": [
  {
   "cell_type": "markdown",
   "metadata": {},
   "source": [
    "# 2005. 파스칼의 삼각형"
   ]
  },
  {
   "cell_type": "markdown",
   "metadata": {},
   "source": [
    "크기가 N인 파스칼의 삼각형을 만들어야 한다.\n",
    "\n",
    "파스칼의 삼각형이란 아래와 같은 규칙을 따른다.\n",
    "\n",
    "1. 첫 번째 줄은 항상 숫자 1이다.\n",
    "\n",
    "2. 두 번째 줄부터 각 숫자들은 자신의 왼쪽과 오른쪽 위의 숫자의 합으로 구성된다.\n",
    "\n",
    "N이 4일 경우,\n",
    "\n",
    "N을 입력 받아 크기 N인 파스칼의 삼각형을 출력하는 프로그램을 작성하시오.\n",
    "\n",
    "\n",
    "## [제약 사항]\n",
    "\n",
    "파스칼의 삼각형의 크기 N은 1 이상 10 이하의 정수이다. (1 ≤ N ≤ 10)\n",
    "\n",
    "\n",
    "## [입력]\n",
    "\n",
    "가장 첫 줄에는 테스트 케이스의 개수 T가 주어지고, 그 아래로 각 테스트 케이스가 주어진다.\n",
    "\n",
    "각 테스트 케이스에는 N이 주어진다.\n",
    "\n",
    "\n",
    "## [출력]\n",
    "\n",
    "각 줄은 '#t'로 시작하고, 다음 줄부터 파스칼의 삼각형을 출력한다.\n",
    "\n",
    "삼각형 각 줄의 처음 숫자가 나오기 전까지의 빈 칸은 생략하고 숫자들 사이에는 한 칸의 빈칸을 출력한다.\n",
    "\n",
    "(t는 테스트 케이스의 번호를 의미하며 1부터 시작한다.)\n",
    "\n",
    "\n",
    "```\n",
    "\n",
    "              1\n",
    "             1 1\n",
    "            1 2 1\n",
    "           1 3 3 1\n",
    "          1 4 6 4 1\n",
    "        1 5 10 10 5 1\n",
    "      1 6 15 20 15 6 1\n",
    "    1 7 21 35 35 21 7 1\n",
    "   1 8 28 56 70 56 28 8 1\n",
    " 1 9 36 84 126 126 84 36 9 1\n",
    "\n",
    "```"
   ]
  },
  {
   "cell_type": "markdown",
   "metadata": {},
   "source": [
    "---"
   ]
  },
  {
   "cell_type": "markdown",
   "metadata": {},
   "source": [
    "\n",
    "\n",
    "\n",
    "```.py\n",
    "\n",
    "for i in range(2, N+1):\n",
    "\n",
    "    for j in range(1, i+1):\n",
    "        \n",
    "        arr[i][j] = arr[i-1][j-1] + arr[i-1][j]\n",
    "```\n",
    "\n",
    "\n",
    "```\n",
    "1\n",
    "1 1\n",
    "1 2 1\n",
    "1 3 3 1\n",
    "```\n",
    "\n",
    "2차원 arr 배열 0포함 생성  \n",
    "\n",
    "```\n",
    "0 1 0 0 0 \n",
    "0 1 1 0 0 \n",
    "0 1 2 1 0\n",
    "0 1 3 3 1\n",
    "\n",
    "```\n",
    "\n",
    "```\n",
    "상 하 좌 우\n",
    "\n",
    "(-1,0) (1,0) (0,-1) (0,1)\n",
    "```\n",
    "\n",
    "```\n",
    "1,1\n",
    "2,1 2,2\n",
    "3,1 3,2 3,3\n",
    "4,1 4,2 4,3 4,4\n",
    "```"
   ]
  },
  {
   "cell_type": "code",
   "execution_count": 15,
   "metadata": {},
   "outputs": [
    {
     "name": "stdout",
     "output_type": "stream",
     "text": [
      "2 1\n",
      "2 2\n",
      "3 1\n",
      "3 2\n",
      "3 3\n",
      "4 1\n",
      "4 2\n",
      "4 3\n",
      "4 4\n"
     ]
    }
   ],
   "source": [
    "for i in range(2, N+1):\n",
    "    \n",
    "    for j in range(1, i+1):\n",
    "        \n",
    "        print(i,j)\n"
   ]
  },
  {
   "cell_type": "markdown",
   "metadata": {},
   "source": [
    "---"
   ]
  },
  {
   "cell_type": "markdown",
   "metadata": {},
   "source": [
    "\n",
    "\n",
    "\n",
    "## MEMO - recursion\n",
    "\n",
    "\n",
    "2d lst 생성\n",
    "\n",
    "1. arr[1][1] = 1\n",
    " \n",
    "2. i증가 시키면서, 배열 채움, 행을 증가시키면서, 열에 규칙성\n",
    "\n",
    "3. i(행) 고정 - 가로 방향, 열(j) 증가 방향\n",
    "\n",
    "4. i 증가 함에 따라, j 범위 도 증가\n",
    "\n",
    "5. `a[i][j] = a[i-1a[j-1] + a[i-1][j]`\n",
    "\n",
    "```\n",
    "i j\n",
    "2 1~2\n",
    "3 1~3\n",
    "4 1~4\n",
    "\n",
    "```\n",
    "\n",
    "\n",
    "\n",
    "```\n",
    "ex\n",
    "N = 4\n",
    "\n",
    "arr\n",
    "\n",
    "[\n",
    "[0 0 0 0 0]\n",
    "[0 1 0 0 0]\n",
    "[0 1 1 0 0]\n",
    "[0 1 2 1 0]\n",
    "[0 1 1 3 1]\n",
    "]\n",
    "\n",
    "\n",
    "```\n"
   ]
  },
  {
   "cell_type": "markdown",
   "metadata": {},
   "source": [
    "---"
   ]
  },
  {
   "cell_type": "markdown",
   "metadata": {},
   "source": [
    "<img src = '2005.png' width = '500' height = '500'/>"
   ]
  },
  {
   "cell_type": "markdown",
   "metadata": {},
   "source": [
    "---"
   ]
  },
  {
   "cell_type": "code",
   "execution_count": 1,
   "metadata": {},
   "outputs": [],
   "source": [
    "arr = [ list(range(1,5+1)) for _ in range(5)]"
   ]
  },
  {
   "cell_type": "code",
   "execution_count": 2,
   "metadata": {},
   "outputs": [
    {
     "data": {
      "text/plain": [
       "[[1, 2, 3, 4, 5],\n",
       " [1, 2, 3, 4, 5],\n",
       " [1, 2, 3, 4, 5],\n",
       " [1, 2, 3, 4, 5],\n",
       " [1, 2, 3, 4, 5]]"
      ]
     },
     "execution_count": 2,
     "metadata": {},
     "output_type": "execute_result"
    }
   ],
   "source": [
    "arr"
   ]
  },
  {
   "cell_type": "code",
   "execution_count": 3,
   "metadata": {},
   "outputs": [
    {
     "name": "stdout",
     "output_type": "stream",
     "text": [
      "(0,0) (0,1) (0,2) (0,3) (0,4) \n",
      "(1,0) (1,1) (1,2) (1,3) (1,4) \n",
      "(2,0) (2,1) (2,2) (2,3) (2,4) \n",
      "(3,0) (3,1) (3,2) (3,3) (3,4) \n",
      "(4,0) (4,1) (4,2) (4,3) (4,4) \n"
     ]
    }
   ],
   "source": [
    "# [i-1] : 상\n",
    "# [i+1] : 하\n",
    "# [j-1] : 좌\n",
    "# [j+1] : 우\n",
    "\n",
    "for i in range(5):\n",
    "    for j in range(5):\n",
    "        print('({0},{1})'.format(i,j), end = ' ')\n",
    "    print()"
   ]
  },
  {
   "cell_type": "markdown",
   "metadata": {},
   "source": [
    "---"
   ]
  },
  {
   "cell_type": "code",
   "execution_count": 4,
   "metadata": {},
   "outputs": [
    {
     "name": "stdout",
     "output_type": "stream",
     "text": [
      "2\n",
      "3\n",
      "#1\n",
      "1 \n",
      "1 1 \n",
      "1 2 1 \n",
      "4\n",
      "#2\n",
      "1 \n",
      "1 1 \n",
      "1 2 1 \n",
      "1 3 3 1 \n"
     ]
    }
   ],
   "source": [
    "T = int(input())\n",
    "\n",
    "for t in range(1,T+1):\n",
    "    \n",
    "    N = int(input())\n",
    "    \n",
    "    # (N+1,N+1) 2차원 배열, +1 zero padding \n",
    "    # (1,1) 초기화\n",
    "    arr = [ [0]*(N+1) for _ in range(N+1) ]\n",
    "    arr[1][1] = 1\n",
    "    \n",
    "    # 입력 (2,1) 부터  \n",
    "    for i in range(2, N+1):\n",
    "        for j in range(1, i+1):\n",
    "            arr[i][j] = arr[i-1][j-1] + arr[i-1][j]\n",
    " \n",
    "    print('#{0}'.format(t))\n",
    "    \n",
    "    # 출력 (1,1) 부터\n",
    "    for i in range(1, N+1):\n",
    "        for j in range(1, i+1):\n",
    "            print(arr[i][j], end=' ')\n",
    "        \n",
    "        print()"
   ]
  },
  {
   "cell_type": "markdown",
   "metadata": {},
   "source": [
    "----"
   ]
  }
 ],
 "metadata": {
  "hide_input": false,
  "kernelspec": {
   "display_name": "Python 3 (ipykernel)",
   "language": "python",
   "name": "python3"
  },
  "language_info": {
   "codemirror_mode": {
    "name": "ipython",
    "version": 3
   },
   "file_extension": ".py",
   "mimetype": "text/x-python",
   "name": "python",
   "nbconvert_exporter": "python",
   "pygments_lexer": "ipython3",
   "version": "3.11.2"
  },
  "toc": {
   "base_numbering": 1,
   "nav_menu": {},
   "number_sections": true,
   "sideBar": true,
   "skip_h1_title": false,
   "title_cell": "Table of Contents",
   "title_sidebar": "Contents",
   "toc_cell": false,
   "toc_position": {},
   "toc_section_display": true,
   "toc_window_display": false
  }
 },
 "nbformat": 4,
 "nbformat_minor": 4
}
