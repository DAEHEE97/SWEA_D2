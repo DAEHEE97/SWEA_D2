{
 "cells": [
  {
   "cell_type": "markdown",
   "metadata": {},
   "source": [
    "# 1959. 두 개의 숫자열\n",
    "\n",
    "N 개의 숫자로 구성된 숫자열 Ai (i=1~N) 와 M 개의 숫자로 구성된 숫자열 Bj (j=1~M) 가 있다.\n",
    "\n",
    "아래는 N =3 인 Ai 와 M = 5 인 Bj 의 예이다.\n",
    "\n",
    "Ai 나 Bj 를 자유롭게 움직여서 숫자들이 서로 마주보는 위치를 변경할 수 있다.\n",
    "\n",
    "단, 더 긴 쪽의 양끝을 벗어나서는 안 된다."
   ]
  },
  {
   "cell_type": "markdown",
   "metadata": {},
   "source": [
    "\n",
    "## [제약 사항]\n",
    "\n",
    "N 과 M은 3 이상 20 이하이다.\n",
    "\n",
    "\n",
    "## [입력]\n",
    "\n",
    "가장 첫 줄에는 테스트 케이스의 개수 T가 주어지고, 그 아래로 각 테스트 케이스가 주어진다.\n",
    "\n",
    "각 테스트 케이스의 첫 번째 줄에 N 과 M 이 주어지고,\n",
    "\n",
    "두 번째 줄에는 Ai,\n",
    "\n",
    "세 번째 줄에는 Bj 가 주어진다.\n",
    "\n",
    "## [출력]\n",
    "\n",
    "출력의 각 줄은 '#t'로 시작하고, 공백을 한 칸 둔 다음 정답을 출력한다.\n",
    "\n",
    "(t는 테스트 케이스의 번호를 의미하며 1부터 시작한다.)"
   ]
  },
  {
   "cell_type": "markdown",
   "metadata": {},
   "source": [
    "---"
   ]
  },
  {
   "cell_type": "markdown",
   "metadata": {},
   "source": [
    "## MEMO\n",
    "\n",
    "- 2개의 리스트 원소들 끼리 곱\n",
    "\n",
    "    - list comprehension\n",
    "    - l.append() 둘 다 가능\n",
    "\n",
    "\n",
    "- lst.insert(0,0) 하여 기존 리스트 원소들 옆으로 한 칸씩 이동\n",
    "\n",
    "\n",
    "\n"
   ]
  },
  {
   "cell_type": "markdown",
   "metadata": {},
   "source": [
    "---"
   ]
  },
  {
   "cell_type": "code",
   "execution_count": 3,
   "metadata": {},
   "outputs": [
    {
     "name": "stdout",
     "output_type": "stream",
     "text": [
      "1\n",
      "7 6\n",
      "6 0 5 5 -1 1 6\n",
      "-4 1 8 7 -9 3\n",
      "#1 63\n"
     ]
    }
   ],
   "source": [
    "T = int(input())\n",
    "\n",
    "for t in range(T):\n",
    "    \n",
    "    N,M = map(int,input().split())\n",
    "    \n",
    "    lst_A = list(map(int,input().split()))\n",
    "        \n",
    "    lst_B = list(map(int,input().split()))\n",
    "    \n",
    "    lst_sum = []\n",
    "    \n",
    "    if len(lst_A) > len(lst_B):\n",
    "        \n",
    "        for i in range(len(lst_A) - len(lst_B) + 1):\n",
    "            \n",
    "            lst_multiply = [ lst_A[i] * lst_B[i] for i in range(len(lst_B))]\n",
    "            \n",
    "            lst_sum.append(sum(l))\n",
    "            \n",
    "            lst_B.insert(0,0)\n",
    "            \n",
    "    \n",
    "    elif( len(lst_A) < len(lst_B) ): # 3 5\n",
    "        \n",
    "        for i in range(len(lst_B) - len(lst_A) + 1): # 3번 idx 0 1 2 \n",
    "            \n",
    "            lst_multiply = [ lst_A[i] * lst_B[i] for i in range(len(lst_A))]\n",
    "            \n",
    "            lst_sum.append(sum(l))\n",
    "            \n",
    "            lst_A.insert(0,0)\n",
    "            \n",
    "    \n",
    "    else:\n",
    "        \n",
    "        lst_multiply = [ lst_A[i] * lst_B[i] for i in range(len(lst_A))]\n",
    "        \n",
    "        lst_sum.append(sum(l))\n",
    "\n",
    "        \n",
    "        \n",
    "    print('#{0} {1}'.format(t+1, max(lst_sum)))\n",
    "    \n",
    "    \n",
    "\n"
   ]
  },
  {
   "cell_type": "markdown",
   "metadata": {},
   "source": [
    "---"
   ]
  },
  {
   "cell_type": "code",
   "execution_count": 6,
   "metadata": {},
   "outputs": [
    {
     "name": "stdout",
     "output_type": "stream",
     "text": [
      "[1, 4, 9]\n"
     ]
    }
   ],
   "source": [
    "lst1 = [1,2,3]\n",
    "\n",
    "lst2 = [1,2,3,4,5]\n",
    "\n",
    "l = []\n",
    "\n",
    "for i in range(len(lst1)):\n",
    "    l.append(lst1[i] * lst2[i])\n",
    "\n",
    "print(l)\n",
    "    "
   ]
  },
  {
   "cell_type": "markdown",
   "metadata": {},
   "source": [
    "---"
   ]
  },
  {
   "cell_type": "code",
   "execution_count": 7,
   "metadata": {},
   "outputs": [
    {
     "name": "stdout",
     "output_type": "stream",
     "text": [
      "[1, 4, 9]\n"
     ]
    }
   ],
   "source": [
    "lst1 = [1,2,3]\n",
    "\n",
    "lst2 = [1,2,3,4,5]\n",
    "\n",
    "l = [ lst1[i] * lst2[i] for i in range(len(lst1))]\n",
    "\n",
    "print(l)"
   ]
  }
 ],
 "metadata": {
  "hide_input": false,
  "kernelspec": {
   "display_name": "Python 3",
   "language": "python",
   "name": "python3"
  },
  "language_info": {
   "codemirror_mode": {
    "name": "ipython",
    "version": 3
   },
   "file_extension": ".py",
   "mimetype": "text/x-python",
   "name": "python",
   "nbconvert_exporter": "python",
   "pygments_lexer": "ipython3",
   "version": "3.8.5"
  },
  "toc": {
   "base_numbering": 1,
   "nav_menu": {},
   "number_sections": true,
   "sideBar": true,
   "skip_h1_title": false,
   "title_cell": "Table of Contents",
   "title_sidebar": "Contents",
   "toc_cell": false,
   "toc_position": {},
   "toc_section_display": true,
   "toc_window_display": false
  }
 },
 "nbformat": 4,
 "nbformat_minor": 4
}
