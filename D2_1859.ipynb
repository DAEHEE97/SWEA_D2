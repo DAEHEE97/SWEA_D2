{
 "cells": [
  {
   "cell_type": "markdown",
   "metadata": {},
   "source": [
    "# 1859. 백만 장자 프로젝트"
   ]
  },
  {
   "cell_type": "markdown",
   "metadata": {},
   "source": [
    "\n",
    "25년 간의 수행 끝에 원재는 미래를 보는 능력을 갖게 되었다. \n",
    "\n",
    "이 능력으로 원재는 사재기를 하려고 한다.\n",
    "\n",
    "다만 당국의 감시가 심해 한 번에 많은 양을 사재기 할 수 없다.\n",
    "\n",
    "다음과 같은 조건 하에서 사재기를 하여 최대한의 이득을 얻도록 도와주자.\n",
    "\n",
    "    1. 원재는 연속된 N일 동안의 물건의 매매가를 예측하여 알고 있다.\n",
    "    \n",
    "    2. 당국의 감시망에 걸리지 않기 위해 하루에 **최대 1만큼 구입**할 수 있다.\n",
    "    \n",
    "    3. **판매는 얼마든지** 할 수 있다.\n",
    "\n",
    "예를 들어 N = 3일 동안의 매매가가 1, 2, 3 이라면 처음 두 날에 원료를 구매하여 마지막 날에 팔면 3의 이익을 얻을 수 있다.\n",
    "\n",
    "\n",
    "## [입력]\n",
    "\n",
    "첫 번째 줄에 테스트 케이스의 수 T가 주어진다.\n",
    "\n",
    "- 각 테스트 케이스 별로 첫 줄에는 자연수 N(2 ≤ N ≤ 1,000,000)이 주어지고,\n",
    "\n",
    "- 둘째 줄에는 각 날의 매매가를 나타내는 N개의 자연수들이 공백으로 구분되어 순서대로 주어진다.\n",
    "\n",
    "- 각 날의 매매가는 10,000이하이다.\n",
    "\n",
    "\n",
    "## [출력]\n",
    "\n",
    "각 테스트 케이스마다 ‘#x’(x는 테스트케이스 번호를 의미하며 1부터 시작한다)를 출력하고, 최대 이익을 출력한다.\n",
    "\n",
    "\n",
    "## [예제 풀이]\n",
    "\n",
    "1번째 케이스는 아무 것도 사지 않는 것이 최대 이익이다.\n",
    "\n",
    "2번째 케이스는 1,2일에 각각 한 개씩 사서 세 번째 날에 두 개를 팔면 10의 이익을 얻을 수 있다.\n",
    "\n",
    "## MEMO\n",
    "\n",
    "\n",
    "n = 3 3일 동안의 가격을 알수가 있음\n",
    "\n",
    "\n",
    "\n",
    "\n",
    "\n",
    "\n",
    "\n",
    "---\n",
    "1. 맨 앞의 max가 있으면 0\n",
    "    - 중간에 바뀔수 있음\n",
    "    \n",
    "2. 다음날 가격이 같거나 내려가면, 오늘 안삼 - idx 비교\n",
    "\n",
    "3. 다음 idx랑 비교해서 더 비싸지면 오늘 사고, 내일 판매 후 다시 살지 말지 정항\n",
    "    - 뒤에 최대 판매 금액이 있을수 있음. 그러면 아무리 내일 가격이 더 비싸도 팔면 안됨\n",
    "    \n",
    "4. 구매 하면서 계산 하거나, 표시 후 나중에 정산\n",
    "\n",
    "\n",
    "5. 역순 진행\n",
    "\n",
    "---\n",
    "\n",
    "- 뒤에서 부터 진행하면서, max로 초기화 \n",
    "\n",
    "- 앞에 날짜가 더 싸면, 전날 사서 오늘 판매 하는 형식\n",
    "\n",
    "\n",
    "\n",
    "  \n",
    "\n",
    "\n",
    "```\n",
    "case 1) 10 7 6\n",
    "\n",
    "case 2) 3 9 5 \n",
    "\n",
    "case 3) 1 1 3 1 2\n",
    "\n",
    "case 4) 1 1 2 1 3 3 2 1 \n",
    "\n",
    "case 5) 10 1 2 1 2 1 3\n",
    "\n",
    "case 6) 1 1 1 1\n",
    "\n",
    "case 7) 1 1 1 0 \n",
    "\n",
    "```\n",
    "\n",
    "\n",
    "\n",
    "ans max\n",
    "\n",
    "2 1 1\n",
    "3에삼\n",
    "다음께 작아 그럼 팔아\n",
    "\n",
    "10 8 7\n",
    "\n",
    "case 3) 1 1 3 1 2\n",
    "\n",
    "case 4) 1 1 2 1 3 3 2 1 \n",
    "\n",
    "case 5) 10 1 2 1 2 1 3"
   ]
  },
  {
   "cell_type": "code",
   "execution_count": 7,
   "metadata": {},
   "outputs": [
    {
     "name": "stdout",
     "output_type": "stream",
     "text": [
      "1\n",
      "3\n",
      "3 5 9\n",
      "#1 10\n"
     ]
    }
   ],
   "source": [
    "T = int(input())\n",
    "\n",
    "for t in range(1,T+1):\n",
    "    \n",
    "    n = int(input()) # 개수\n",
    "    \n",
    "    lst = list(map(int,input().split()))\n",
    "    \n",
    "    max_v = 0\n",
    "    \n",
    "    ans = 0\n",
    "    \n",
    "    for i in range(-1,(-1)*n-1,-1):\n",
    "        if lst[i] >= max_v:\n",
    "            max_v = lst[i]\n",
    "        \n",
    "        elif lst[i] < max_v:\n",
    "            ans += max_v - lst[i]\n",
    "        \n",
    "    print('#{0} {1}'.format(t,ans)) \n",
    "    \n"
   ]
  },
  {
   "cell_type": "markdown",
   "metadata": {},
   "source": [
    "---"
   ]
  },
  {
   "cell_type": "code",
   "execution_count": null,
   "metadata": {},
   "outputs": [],
   "source": [
    "T = int(input())\n",
    "\n",
    "for t in range(1, T + 1):\n",
    "    \n",
    "    N = int(input())\n",
    "    \n",
    "    lst = list(map(int, input().split()))\n",
    " \n",
    "    ans = 0\n",
    "    \n",
    "    si = 0\n",
    "    \n",
    "    while si < N:\n",
    "        \n",
    "        i_max = si\n",
    "        \n",
    "        for i in range(si+1, N):\n",
    "            if lst[i_max] < lst[i]:\n",
    "                i_max = i\n",
    "        \n",
    "        for i in range(si, i_max):\n",
    "            ans += (lst[i_max] - lst[i])\n",
    "        \n",
    "        si = i_max + 1\n",
    "        \n",
    "    print('#{0} {1}'.format(t,ans)) \n",
    "        \n",
    " "
   ]
  },
  {
   "cell_type": "markdown",
   "metadata": {},
   "source": [
    "---"
   ]
  }
 ],
 "metadata": {
  "hide_input": false,
  "kernelspec": {
   "display_name": "Python 3 (ipykernel)",
   "language": "python",
   "name": "python3"
  },
  "language_info": {
   "codemirror_mode": {
    "name": "ipython",
    "version": 3
   },
   "file_extension": ".py",
   "mimetype": "text/x-python",
   "name": "python",
   "nbconvert_exporter": "python",
   "pygments_lexer": "ipython3",
   "version": "3.8.16"
  },
  "toc": {
   "base_numbering": 1,
   "nav_menu": {},
   "number_sections": true,
   "sideBar": true,
   "skip_h1_title": false,
   "title_cell": "Table of Contents",
   "title_sidebar": "Contents",
   "toc_cell": false,
   "toc_position": {},
   "toc_section_display": true,
   "toc_window_display": false
  },
  "varInspector": {
   "cols": {
    "lenName": 16,
    "lenType": 16,
    "lenVar": 40
   },
   "kernels_config": {
    "python": {
     "delete_cmd_postfix": "",
     "delete_cmd_prefix": "del ",
     "library": "var_list.py",
     "varRefreshCmd": "print(var_dic_list())"
    },
    "r": {
     "delete_cmd_postfix": ") ",
     "delete_cmd_prefix": "rm(",
     "library": "var_list.r",
     "varRefreshCmd": "cat(var_dic_list()) "
    }
   },
   "types_to_exclude": [
    "module",
    "function",
    "builtin_function_or_method",
    "instance",
    "_Feature"
   ],
   "window_display": false
  }
 },
 "nbformat": 4,
 "nbformat_minor": 4
}
