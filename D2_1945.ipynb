{
 "cells": [
  {
   "cell_type": "markdown",
   "id": "78dad104",
   "metadata": {},
   "source": [
    "# 1945. 간단한 소인수분해\n",
    "\n",
    "숫자 N은 아래와 같다.\n",
    "\n",
    "$N = 2^a x 3^b x 5^c x 7^d x 11^e$ \n",
    "\n",
    "N이 주어질 때 a, b, c, d, e 를 출력하라.\n",
    "\n",
    "- 입력 되는 N은 모두 주어진 양식으로만 입력되는 것을 note\n",
    "- 예외사항 체크\n",
    "\n",
    "\n",
    "## [제약 사항]\n",
    "\n",
    "N은 2 이상 10,000,000 이하이다.\n",
    "\n",
    "\n",
    "## [입력]\n",
    "\n",
    "가장 첫 줄에는 테스트 케이스의 개수 T가 주어지고, 그 아래로 각 테스트 케이스가 주어진다.\n",
    "\n",
    "각 테스트 케이스의 첫 번째 줄에 N 이 주어진다.\n",
    "\n",
    "\n",
    "## [출력]\n",
    "\n",
    "출력의 각 줄은 '#t'로 시작하고, 공백을 한 칸 둔 다음 정답을 출력한다.\n",
    "\n",
    "(t는 테스트 케이스의 번호를 의미하며 1부터 시작한다.)"
   ]
  },
  {
   "cell_type": "markdown",
   "id": "16ac9030",
   "metadata": {},
   "source": [
    "---"
   ]
  },
  {
   "cell_type": "markdown",
   "id": "8a746e73",
   "metadata": {},
   "source": [
    "## Memo\n",
    "\n",
    "1. 리스트에서 하나 (i)를 꺼내서, i, i, i 계속 나누는 구조\n",
    "\n",
    "2. 2. 반복문 동안, 리스트에서 i 꺼내고, i+1 꺼내고, i+2 꺼내고\n",
    "\n",
    "--- \n",
    "- 계속 반복하면서 뭐가 될때까지 계속 돌려야 되는 구조\n",
    "\n",
    "- while 먼저 쓰고, lst를 차례대로 계속 계속 반복\n",
    "\n",
    "- 개수 처리 일단 다 넣고 .count() 메서드로 처리\n",
    "\n",
    "---\n",
    "\n",
    "- while(N!=1), else 구조\n",
    "\n",
    "- while(N!-1), if(N==1) 구조\n",
    "\n",
    "- flag 구조 F T F\n",
    "\n",
    "- 한바퀴 돌았을때 없을 경우 if flag == False"
   ]
  },
  {
   "cell_type": "markdown",
   "id": "be8f1a41",
   "metadata": {},
   "source": [
    "---"
   ]
  },
  {
   "cell_type": "markdown",
   "id": "33bc3ab8",
   "metadata": {},
   "source": [
    "<img src = '1945.png' width = '500' height = '500'/>"
   ]
  },
  {
   "cell_type": "markdown",
   "id": "6c570946",
   "metadata": {},
   "source": [
    "---"
   ]
  },
  {
   "cell_type": "code",
   "execution_count": 1,
   "id": "f3bfae1a",
   "metadata": {},
   "outputs": [
    {
     "name": "stdout",
     "output_type": "stream",
     "text": [
      "1 2 3\n",
      "#1 2 3 5 7 11\n"
     ]
    }
   ],
   "source": [
    "# , 구분 시 자동으로 띄어쓰기\n",
    "\n",
    "print(1,2,3)\n",
    "\n",
    "t = 1\n",
    "\n",
    "lst_m = [2,3,5,7,11]\n",
    "\n",
    "print( '#{0}'.format(t), *lst_m )"
   ]
  },
  {
   "cell_type": "markdown",
   "id": "4e64a20c",
   "metadata": {},
   "source": [
    "---"
   ]
  },
  {
   "cell_type": "code",
   "execution_count": 2,
   "id": "6be85d3d",
   "metadata": {},
   "outputs": [
    {
     "name": "stdout",
     "output_type": "stream",
     "text": [
      "1\n",
      "12\n",
      "#1 2 1 0 0 0\n"
     ]
    }
   ],
   "source": [
    "# 1. 리스트에서 하나 (i)를 꺼내서, i, i, i 계속 나누는 구조\n",
    "\n",
    "lst_m = [2,3,5,7,11]\n",
    "lst_cnt = [0] * 5\n",
    "\n",
    "\n",
    "T = int(input())\n",
    "\n",
    "for t in range(1,T+1):\n",
    "    \n",
    "    N = int(input()) \n",
    "        \n",
    "    for i in range(5):    \n",
    "        while N % lst_m[i] == 0:\n",
    "            lst_cnt[i] += 1\n",
    "            N = N // lst_m[i]\n",
    "\n",
    "    print('#{0}'.format(t), *lst_cnt)\n",
    "    \n",
    "    "
   ]
  },
  {
   "cell_type": "markdown",
   "id": "fccd7fca",
   "metadata": {},
   "source": [
    "---"
   ]
  },
  {
   "cell_type": "code",
   "execution_count": 3,
   "id": "f635fe47",
   "metadata": {},
   "outputs": [
    {
     "name": "stdout",
     "output_type": "stream",
     "text": [
      "1\n",
      "12\n",
      "#1 2 1 0 0 0\n"
     ]
    }
   ],
   "source": [
    "# 2. 반복문 동안, 리스트에서 i 꺼내고, i+1 꺼내고, i+2 꺼내고\n",
    "T = int(input())\n",
    "\n",
    "for t in range(1,T+1):\n",
    "    \n",
    "    N = int(input())\n",
    "    \n",
    "    lst = []\n",
    "    \n",
    "    while(N != 1):\n",
    "        \n",
    "        for i in [2,3,5,7,9]:\n",
    "            if N % i == 0:\n",
    "                N = N // i\n",
    "                lst.append(i)\n",
    "    \n",
    "    print('#{0} {1} {2} {3} {4} {5}'.format(t,lst.count(2),lst.count(3), lst.count(5), lst.count(7), lst.count(11)) )"
   ]
  },
  {
   "cell_type": "markdown",
   "id": "66d3a9ea",
   "metadata": {},
   "source": [
    "---"
   ]
  },
  {
   "cell_type": "code",
   "execution_count": 4,
   "id": "b3cc90d7",
   "metadata": {},
   "outputs": [
    {
     "name": "stdout",
     "output_type": "stream",
     "text": [
      "1\n",
      "12\n",
      "#1 2 1 0 0 0\n"
     ]
    }
   ],
   "source": [
    "T = int(input())\n",
    "\n",
    "for t in range(T):\n",
    "    \n",
    "    N = int(input()) \n",
    "    \n",
    "    a = 0\n",
    "    b = 0\n",
    "    c = 0\n",
    "    d = 0\n",
    "    e = 0\n",
    "    \n",
    "    while(N!=1):\n",
    "        \n",
    "        if(N % 2 == 0):\n",
    "            N = N // 2\n",
    "            a+=1\n",
    "            \n",
    "        elif(N % 3 == 0):\n",
    "            N = N // 3\n",
    "            b+=1\n",
    "            \n",
    "        elif(N % 5 == 0):\n",
    "            N = N // 5\n",
    "            c+=1\n",
    "            \n",
    "        elif(N % 7 == 0):\n",
    "            N = N // 7\n",
    "            d+=1\n",
    "            \n",
    "        elif(N % 11 == 0):\n",
    "            N = N // 11\n",
    "            e+=1            \n",
    "        \n",
    "        else:\n",
    "            break\n",
    "            \n",
    "    print('#{0} {1} {2} {3} {4} {5}'.format(t+1,a,b,c,d,e))\n",
    "            \n",
    "    \n",
    "    "
   ]
  },
  {
   "cell_type": "markdown",
   "id": "a1e3b4ff",
   "metadata": {},
   "source": [
    "---"
   ]
  },
  {
   "cell_type": "code",
   "execution_count": 5,
   "id": "979fac82",
   "metadata": {},
   "outputs": [
    {
     "name": "stdout",
     "output_type": "stream",
     "text": [
      "1\n",
      "12\n",
      "#1 2 1 0 0 0\n"
     ]
    }
   ],
   "source": [
    "lst_m = [2,3,5,7,11]\n",
    "\n",
    "T = int(input())\n",
    "\n",
    "for t in range(T):\n",
    "    \n",
    "    N = int(input()) \n",
    "\n",
    "    lst_ans = []\n",
    "    \n",
    "    # 1이 될때 까지 lst_m 을 2 3 5 7 11, 2 3 5 7 11 옆으로 돌면서 추가 후\n",
    "    # cnt+1 이 아니라, 모두 넣고 카운트로 계산\n",
    "\n",
    "    while(N!=1):\n",
    "        \n",
    "        for i in lst_m:\n",
    "            if (N % i == 0):\n",
    "                N = N // i\n",
    "                lst_ans.append(i)\n",
    "                break\n",
    "                \n",
    "   \n",
    "    print('#{0} {1} {2} {3} {4} {5}'.format(t+1,lst_ans.count(2),lst_ans.count(3),lst_ans.count(5),lst_ans.count(7),lst_ans.count(11)))\n",
    "\n",
    "        "
   ]
  },
  {
   "cell_type": "markdown",
   "id": "f7b7fb4b",
   "metadata": {},
   "source": [
    "---"
   ]
  },
  {
   "cell_type": "markdown",
   "id": "69932ad1",
   "metadata": {},
   "source": [
    "## 예외사항"
   ]
  },
  {
   "cell_type": "code",
   "execution_count": 6,
   "id": "4462f2d1",
   "metadata": {},
   "outputs": [
    {
     "name": "stdout",
     "output_type": "stream",
     "text": [
      "1\n",
      "12\n",
      "#1 2 1 0 0 0\n",
      "#1 2 1 0 0 0 \n"
     ]
    }
   ],
   "source": [
    "lst_m = [2,3,5,7,11]\n",
    "\n",
    "T = int(input())\n",
    "\n",
    "for t in range(T):\n",
    "    \n",
    "    N = int(input()) \n",
    "    \n",
    "    lst_ans = []\n",
    "    \n",
    "    while(N!=1):\n",
    "        \n",
    "        flag = False\n",
    "        \n",
    "        # 한바퀴 돌음\n",
    "        for i in lst_m:\n",
    "            if (N % i == 0):\n",
    "                \n",
    "                flag = True\n",
    "                N = N // i\n",
    "                lst_ans.append(i)\n",
    "        \n",
    "                break\n",
    "            \n",
    "        if flag == False:\n",
    "            print(-1)\n",
    "            break\n",
    "                \n",
    "        elif (N==1):\n",
    "            print('#{0} {1} {2} {3} {4} {5}'.format(t+1,lst_ans.count(2),lst_ans.count(3),lst_ans.count(5),lst_ans.count(7),lst_ans.count(11)))\n",
    "\n",
    "            print('#{0}'.format(t+1), end= ' ')\n",
    "            for i in lst_m:\n",
    "                print(lst_ans.count(i),end=' ')\n",
    "\n",
    "            print()\n",
    "        \n"
   ]
  },
  {
   "cell_type": "markdown",
   "id": "a629331a",
   "metadata": {},
   "source": [
    "---"
   ]
  },
  {
   "cell_type": "code",
   "execution_count": 7,
   "id": "56d2445a",
   "metadata": {},
   "outputs": [
    {
     "name": "stdout",
     "output_type": "stream",
     "text": [
      "1\n",
      "12\n",
      "#1 2 1 0 0 0\n"
     ]
    }
   ],
   "source": [
    "lst_m = [2,3,5,7,11]\n",
    "\n",
    "T = int(input())\n",
    "\n",
    "for t in range(T):\n",
    "    \n",
    "    N = int(input()) \n",
    "    lst_ans = []\n",
    "    \n",
    "    # while에 조건에 맞게 탈출하면 else로 이동, \n",
    "    # 그러나 while 안에서 break로 탈출할 경우 else 로 안감\n",
    "    while(N!=1):\n",
    "        \n",
    "        found_factor = False\n",
    "        \n",
    "        for i in lst_m:\n",
    "            if (N % i == 0):\n",
    "                N = N // i\n",
    "                lst_ans.append(i)\n",
    "                found_factor = True\n",
    "                break\n",
    "        \n",
    "        if not found_factor:\n",
    "            print('#{0} -1'.format(t+1))\n",
    "            break\n",
    "    else:\n",
    "        print('#{0} {1} {2} {3} {4} {5}'.format(t+1,lst_ans.count(2),lst_ans.count(3),lst_ans.count(5),lst_ans.count(7),lst_ans.count(11)))\n",
    "\n",
    "        "
   ]
  },
  {
   "cell_type": "markdown",
   "id": "3636efa5",
   "metadata": {},
   "source": [
    "---"
   ]
  },
  {
   "cell_type": "markdown",
   "id": "846a4a76",
   "metadata": {},
   "source": [
    "- N 이 1이 될때 까지 반복하며, 1이 될경우 를 while() 안에서 명시 후, while() 문 탈출과 함꼐 종료\n",
    "\n",
    "- found_factor"
   ]
  },
  {
   "cell_type": "code",
   "execution_count": 8,
   "id": "da498ccb",
   "metadata": {},
   "outputs": [
    {
     "name": "stdout",
     "output_type": "stream",
     "text": [
      "1\n",
      "12\n",
      "#1 2 1 0 0 0\n"
     ]
    }
   ],
   "source": [
    "lst_m = [2,3,5,7,11]\n",
    "\n",
    "T = int(input())\n",
    "\n",
    "for t in range(T):\n",
    "    \n",
    "    N = int(input()) \n",
    "    lst_ans = []\n",
    "    \n",
    "    # N이 1이 될때 까지 반복 \n",
    "    # elif 로 N == 1이라면 조건 수행 후\n",
    "    # 위로 올라와서 N==1이되서 반복문 탈출하면서 종료\n",
    "    \n",
    "    while(N!=1):\n",
    "        \n",
    "        found_factor = False\n",
    "        \n",
    "        \n",
    "        for i in lst_m:\n",
    "            if (N % i == 0):\n",
    "                N = N // i\n",
    "                lst_ans.append(i)\n",
    "                \n",
    "                found_factor = True\n",
    "                break\n",
    "        \n",
    "        # lst_m 한바퀴를 돌았는데도 False라면, \n",
    "        if not found_factor:\n",
    "            print('#{0} -1'.format(t+1))\n",
    "            break\n",
    "        \n",
    "        # 결국에 N = 1이 되면, 조건을 한번 더 씀 \n",
    "        elif N == 1:\n",
    "            print('#{0} {1} {2} {3} {4} {5}'.format(t+1,lst_ans.count(2),lst_ans.count(3),lst_ans.count(5),lst_ans.count(7),lst_ans.count(11)))\n",
    "         \n"
   ]
  },
  {
   "cell_type": "markdown",
   "id": "0b38e36a",
   "metadata": {},
   "source": [
    "---"
   ]
  }
 ],
 "metadata": {
  "kernelspec": {
   "display_name": "Python 3 (ipykernel)",
   "language": "python",
   "name": "python3"
  },
  "language_info": {
   "codemirror_mode": {
    "name": "ipython",
    "version": 3
   },
   "file_extension": ".py",
   "mimetype": "text/x-python",
   "name": "python",
   "nbconvert_exporter": "python",
   "pygments_lexer": "ipython3",
   "version": "3.11.2"
  }
 },
 "nbformat": 4,
 "nbformat_minor": 5
}
