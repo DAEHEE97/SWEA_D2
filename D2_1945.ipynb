{
 "cells": [
  {
   "cell_type": "markdown",
   "id": "da13a6e3",
   "metadata": {},
   "source": [
    "# 1945. 간단한 소인수분해"
   ]
  },
  {
   "cell_type": "markdown",
   "id": "57a65ab5",
   "metadata": {},
   "source": [
    "---"
   ]
  },
  {
   "cell_type": "markdown",
   "id": "78dad104",
   "metadata": {},
   "source": [
    "숫자 N은 아래와 같다.\n",
    "\n",
    "N=2^a x 3^b x 5^c x 7^d x 11^e\n",
    "\n",
    "N이 주어질 때 a, b, c, d, e 를 출력하라.\n",
    "\n",
    "## [제약 사항]\n",
    "\n",
    "N은 2 이상 10,000,000 이하이다.\n",
    "\n",
    "\n",
    "## [입력]\n",
    "\n",
    "가장 첫 줄에는 테스트 케이스의 개수 T가 주어지고, 그 아래로 각 테스트 케이스가 주어진다.\n",
    "\n",
    "각 테스트 케이스의 첫 번째 줄에 N 이 주어진다.\n",
    "\n",
    "\n",
    "## [출력]\n",
    "\n",
    "출력의 각 줄은 '#t'로 시작하고, 공백을 한 칸 둔 다음 정답을 출력한다.\n",
    "\n",
    "(t는 테스트 케이스의 번호를 의미하며 1부터 시작한다.)"
   ]
  },
  {
   "cell_type": "markdown",
   "id": "16ac9030",
   "metadata": {},
   "source": [
    "---"
   ]
  },
  {
   "cell_type": "markdown",
   "id": "8a746e73",
   "metadata": {},
   "source": [
    "## Memo\n",
    "\n",
    "- 계속 반복하면서 뭐가 될때까지 계속 돌려야 되는 구조\n",
    "\n",
    "- while 먼저 쓰고, lst를 차례대로 계속 계속 반복\n",
    "\n",
    "\n",
    "- 개수 처리 일단 다 넣고 .count() 메서드로 처리\n",
    "\n",
    "\n"
   ]
  },
  {
   "cell_type": "markdown",
   "id": "6ee153b7",
   "metadata": {},
   "source": [
    "---"
   ]
  },
  {
   "cell_type": "code",
   "execution_count": 3,
   "id": "2b6b57a6",
   "metadata": {},
   "outputs": [
    {
     "name": "stdout",
     "output_type": "stream",
     "text": [
      "2\n",
      "25\n",
      "#1 0 0 2 0 0 \n",
      "12\n",
      "#2 2 1 0 0 0 \n"
     ]
    }
   ],
   "source": [
    "s = [2,3,5,7,11]\n",
    "\n",
    "T = int(input())\n",
    " \n",
    "    \n",
    "for t in range(T):\n",
    "    \n",
    "    lst = []\n",
    "    \n",
    "    N = int(input())\n",
    "    \n",
    "    while(N!=1):\n",
    "        for i in s:\n",
    "            if (N % i == 0):\n",
    "                N = N // i\n",
    "                lst.append(i)\n",
    "    \n",
    "    \n",
    "    \n",
    "    print('#{0}'.format(t+1),end = ' ')\n",
    "    \n",
    "    for i in s:\n",
    "        print(lst.count(i),end = ' ')\n",
    "    \n",
    "    print()\n",
    "    "
   ]
  },
  {
   "cell_type": "markdown",
   "id": "0b38e36a",
   "metadata": {},
   "source": [
    "---"
   ]
  },
  {
   "cell_type": "code",
   "execution_count": null,
   "id": "b151f780",
   "metadata": {},
   "outputs": [],
   "source": [
    "T = int(input())\n",
    "\n",
    "for t in range(T) :\n",
    "    \n",
    "    N = int(input())\n",
    "    \n",
    "    a = 0; b = 0; c = 0; d = 0; e = 0\n",
    "    \n",
    "    while(N != 1) :\n",
    "        if N % 2 == 0 :\n",
    "            a += 1\n",
    "            N = N//2\n",
    "        \n",
    "        elif N % 3 == 0 :\n",
    "            b += 1\n",
    "            N = N//3\n",
    "        \n",
    "        elif N % 5 == 0 :\n",
    "            c += 1\n",
    "            N = N//5\n",
    "        \n",
    "        elif N % 7 == 0 :\n",
    "            d += 1\n",
    "            N = N//7\n",
    "        \n",
    "        elif N % 11 == 0 :\n",
    "            e += 1\n",
    "            N = N//11\n",
    "\n",
    "    print(\"#{0} {1} {2} {3} {4} {5}\".format(t+1, a, b, c, d, e))"
   ]
  }
 ],
 "metadata": {
  "kernelspec": {
   "display_name": "Python 3 (ipykernel)",
   "language": "python",
   "name": "python3"
  },
  "language_info": {
   "codemirror_mode": {
    "name": "ipython",
    "version": 3
   },
   "file_extension": ".py",
   "mimetype": "text/x-python",
   "name": "python",
   "nbconvert_exporter": "python",
   "pygments_lexer": "ipython3",
   "version": "3.11.2"
  }
 },
 "nbformat": 4,
 "nbformat_minor": 5
}
