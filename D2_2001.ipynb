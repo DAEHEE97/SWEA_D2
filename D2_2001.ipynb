{
 "cells": [
  {
   "cell_type": "markdown",
   "id": "3a775ceb",
   "metadata": {},
   "source": [
    "# 2001. 파리 퇴치\n",
    "\n",
    "- [파리 퇴치](https://swexpertacademy.com/main/code/problem/problemDetail.do?problemLevel=2&contestProbId=AV5PzOCKAigDFAUq&categoryId=AV5PzOCKAigDFAUq&categoryType=CODE&problemTitle=&orderBy=PASS_RATE&selectCodeLang=PYTHON&select-1=2&pageSize=10&pageIndex=2)\n"
   ]
  },
  {
   "cell_type": "markdown",
   "id": "17bda924",
   "metadata": {},
   "source": [
    "---"
   ]
  },
  {
   "cell_type": "markdown",
   "id": "342af06d",
   "metadata": {},
   "source": [
    "\n",
    "N x N 배열 안의 숫자는 해당 영역에 존재하는 파리의 개수를 의미한다.\n",
    "\n",
    "아래는 N=5 의 예이다.\n",
    "\n",
    "\n",
    "\n",
    "M x M 크기의 파리채를 한 번 내리쳐 최대한 많은 파리를 죽이고자 한다.\n",
    "\n",
    "죽은 파리의 개수를 구하라!\n",
    "\n",
    "예를 들어 M=2 일 경우 위 예제의 정답은 49마리가 된다.\n",
    "\n",
    "\n",
    "\n",
    "## [제약 사항]\n",
    "\n",
    "1. N 은 5 이상 15 이하이다.\n",
    "\n",
    "2. M은 2 이상 N 이하이다.\n",
    "\n",
    "3. 각 영역의 파리 갯수는 30 이하 이다.\n",
    "\n",
    "\n",
    "## [입력]\n",
    "\n",
    "가장 첫 줄에는 테스트 케이스의 개수 T가 주어지고, 그 아래로 각 테스트 케이스가 주어진다.\n",
    "\n",
    "각 테스트 케이스의 첫 번째 줄에 N 과 M 이 주어지고,\n",
    "\n",
    "다음 N 줄에 걸쳐 N x N 배열이 주어진다.\n",
    "\n",
    "\n",
    "## [출력]\n",
    "\n",
    "출력의 각 줄은 '#t'로 시작하고, 공백을 한 칸 둔 다음 정답을 출력한다.\n",
    "\n",
    "(t는 테스트 케이스의 번호를 의미하며 1부터 시작한다.)"
   ]
  },
  {
   "cell_type": "markdown",
   "id": "79a6b32b",
   "metadata": {},
   "source": [
    "---"
   ]
  },
  {
   "cell_type": "markdown",
   "id": "52f5decf",
   "metadata": {},
   "source": [
    "<img src = '2001.png' >"
   ]
  },
  {
   "cell_type": "markdown",
   "id": "4e02e40a",
   "metadata": {},
   "source": [
    "---"
   ]
  },
  {
   "cell_type": "raw",
   "id": "677f2a2f",
   "metadata": {},
   "source": [
    "## Memo\n",
    "\n",
    "\n",
    "전체 순회 (범위 주위!)\n",
    "\n",
    "\n",
    "- arr 2차원\n",
    "\n",
    "- 시작 si, sj 가능한 범위 설정 range error\n",
    "\n",
    "- arr[i][j] 를 범위를 si,si+M, sj,sj+M 으로 범위 설정 후 \n",
    "\n",
    "- idx -> range\n",
    "\n",
    "- (si,si+M) si포함 M칸 \n",
    "\n",
    "- 최대값 뽑기\n"
   ]
  },
  {
   "cell_type": "markdown",
   "id": "c5de4b2f",
   "metadata": {},
   "source": [
    "---"
   ]
  },
  {
   "cell_type": "code",
   "execution_count": 1,
   "id": "37ec2d63",
   "metadata": {},
   "outputs": [
    {
     "name": "stdout",
     "output_type": "stream",
     "text": [
      "1\n",
      "5 2\n",
      "1 3 3 6 7\n",
      "8 13 9 12 8\n",
      "4 16 11 12 6\n",
      "2 4 1 23 2\n",
      "9 13 4 7 3\n",
      "#1 49\n"
     ]
    }
   ],
   "source": [
    "T = int(input())\n",
    "\n",
    "for t in range(1,T+1):\n",
    "    \n",
    "    N,M = map(int,input().split())\n",
    "    \n",
    "    # NxN 전체, MxM 파리채\n",
    "    \n",
    "    arr = []\n",
    "    \n",
    "    for _ in range(N):\n",
    "        arr.append(list(map(int,input().split())))\n",
    "    \n",
    "    \n",
    "    # N = 5\n",
    "    # 처리\n",
    "    # 시작 좌표 0,0 부터 4,4 까지 돌면서 처리\n",
    "    # 이떄 range error 때문에, 움직일수 최대를 \n",
    "    # 0 1 2 3 4  (5 - 2) idx 까지 > range (5-2+1)\n",
    "    \n",
    "    # (0,0), (0,1), (0,2), (0,3)\n",
    "    # 0,0 0,1 까지만 가능 M 2칸 / idx x \n",
    "    \n",
    "    s_lst = []\n",
    "    \n",
    "    \n",
    "    for si in range(N-M+1):\n",
    "        for sj in range(N-M+1):        \n",
    "            \n",
    "            s = 0\n",
    "            for i in range(si,si+M):\n",
    "                for j in range(sj,sj+M):\n",
    "                    s+=arr[i][j]\n",
    "                    \n",
    "            s_lst.append(s)\n",
    "                    \n",
    "    print('#{0} {1}'.format(t,max(s_lst)))\n",
    "    \n"
   ]
  },
  {
   "cell_type": "markdown",
   "id": "a226265d",
   "metadata": {},
   "source": [
    "---"
   ]
  },
  {
   "cell_type": "code",
   "execution_count": 2,
   "id": "0985a7bf",
   "metadata": {},
   "outputs": [
    {
     "name": "stdout",
     "output_type": "stream",
     "text": [
      "100\n"
     ]
    }
   ],
   "source": [
    "ans = 0\n",
    "\n",
    "for i in [14,11,12,19,15,100,20]:\n",
    "    if i > ans:\n",
    "        ans = i\n",
    "        \n",
    "print(ans)"
   ]
  },
  {
   "cell_type": "markdown",
   "id": "3afdcb47",
   "metadata": {},
   "source": [
    "---"
   ]
  }
 ],
 "metadata": {
  "kernelspec": {
   "display_name": "Python 3 (ipykernel)",
   "language": "python",
   "name": "python3"
  },
  "language_info": {
   "codemirror_mode": {
    "name": "ipython",
    "version": 3
   },
   "file_extension": ".py",
   "mimetype": "text/x-python",
   "name": "python",
   "nbconvert_exporter": "python",
   "pygments_lexer": "ipython3",
   "version": "3.11.2"
  }
 },
 "nbformat": 4,
 "nbformat_minor": 5
}
