{
 "cells": [
  {
   "cell_type": "markdown",
   "metadata": {},
   "source": [
    "# 1926. 간단한 369게임"
   ]
  },
  {
   "cell_type": "markdown",
   "metadata": {},
   "source": [
    "3 6 9 게임을 프로그램으로 제작중이다. 게임 규칙은 다음과 같다.\n",
    "\n",
    " \n",
    "\n",
    "1. 숫자 1부터 순서대로 차례대로 말하되, “3” “6” “9” 가 들어가 있는 수는 말하지 않는다.\n",
    "\n",
    "  1 2 3 4 5 6 7 8 9…\n",
    "\n",
    "2. \"3\" \"6\" \"9\"가 들어가 있는 수를 말하지 않는대신, 박수를 친다. 이 때, 박수는 해당 숫자가 들어간 개수만큼 쳐야 한다.  \n",
    "예를 들어 숫자 35의 경우 박수 한 번, 숫자 36의 경우 박수를 두번 쳐야 한다.\n",
    " \n",
    "\n",
    "입력으로 정수 N 이 주어졌을 때, 1~N 까지의 숫자를\n",
    "\n",
    "게임 규칙에 맞게 출력하는 프로그램을 작성하라.\n",
    "\n",
    "박수를 치는 부분은 숫자 대신, 박수 횟수에 맞게 “-“ 를 출력한다.\n",
    "\n",
    "여기서 주의해야 할 것은 박수 한 번 칠 때는 - 이며, 박수를 두 번 칠 때는 - - 가 아닌 -- 이다. \n",
    " \n",
    "\n",
    "## [제약사항]\n",
    "\n",
    "N은 10이상 1,000이하의 정수이다. (10 ≤ N ≤ 1,000)\n",
    "\n",
    " \n",
    "\n",
    "## [입력]\n",
    "\n",
    "입력으로 정수 N 이 주어진다.\n",
    "\n",
    "\n",
    "## [출력]\n",
    "\n",
    "1 ~ N까지의 숫자를 게임 규칙에 맞게 출력한다.\n"
   ]
  },
  {
   "cell_type": "markdown",
   "metadata": {},
   "source": [
    "---"
   ]
  },
  {
   "cell_type": "markdown",
   "metadata": {},
   "source": [
    "## Memo\n",
    "\n",
    "숫자 분리 : str() 형 변환 후, list() 형 변환"
   ]
  },
  {
   "cell_type": "code",
   "execution_count": 1,
   "metadata": {},
   "outputs": [
    {
     "name": "stdout",
     "output_type": "stream",
     "text": [
      "['3', '6']\n"
     ]
    }
   ],
   "source": [
    "lst = list(str(36))\n",
    "print(lst)"
   ]
  },
  {
   "cell_type": "markdown",
   "metadata": {},
   "source": [
    "---"
   ]
  },
  {
   "cell_type": "code",
   "execution_count": 2,
   "metadata": {},
   "outputs": [
    {
     "name": "stdout",
     "output_type": "stream",
     "text": [
      "37\n",
      "1 2 - 4 5 - 7 8 - 10 11 12 - 14 15 - 17 18 - 20 21 22 - 24 25 - 27 28 - - - - -- - - -- - "
     ]
    }
   ],
   "source": [
    "N = int(input())\n",
    "\n",
    "for i in range(1,N+1):\n",
    "    \n",
    "    lst = list(str(i))\n",
    "    \n",
    "    cnt = lst.count('3') + lst.count('6') + lst.count('9')\n",
    "    \n",
    "    if cnt == 0:\n",
    "        print(i, end = ' ')\n",
    "        \n",
    "    else:\n",
    "        print('-'*cnt, end = ' ')"
   ]
  },
  {
   "cell_type": "markdown",
   "metadata": {},
   "source": [
    "---"
   ]
  },
  {
   "cell_type": "code",
   "execution_count": 3,
   "metadata": {},
   "outputs": [
    {
     "name": "stdout",
     "output_type": "stream",
     "text": [
      "37\n",
      "1 2 - 4 5 - 7 8 - 10 11 12 - 14 15 - 17 18 - 20 21 22 - 24 25 - 27 28 - - - - -- - - -- - "
     ]
    }
   ],
   "source": [
    "N = int(input())\n",
    "\n",
    "for i in range(1,N+1):\n",
    "    \n",
    "    if ( str(i).count('3') + str(i).count('6') + str(i).count('9') == 0 ):\n",
    "        print(i,end = ' ')\n",
    "    \n",
    "    else:\n",
    "        print('-'*(str(i).count('3') + str(i).count('6') + str(i).count('9')),end = ' ')\n",
    "    \n",
    "    "
   ]
  },
  {
   "cell_type": "markdown",
   "metadata": {},
   "source": [
    "---"
   ]
  }
 ],
 "metadata": {
  "hide_input": false,
  "kernelspec": {
   "display_name": "Python 3 (ipykernel)",
   "language": "python",
   "name": "python3"
  },
  "language_info": {
   "codemirror_mode": {
    "name": "ipython",
    "version": 3
   },
   "file_extension": ".py",
   "mimetype": "text/x-python",
   "name": "python",
   "nbconvert_exporter": "python",
   "pygments_lexer": "ipython3",
   "version": "3.11.2"
  },
  "toc": {
   "base_numbering": 1,
   "nav_menu": {},
   "number_sections": true,
   "sideBar": true,
   "skip_h1_title": false,
   "title_cell": "Table of Contents",
   "title_sidebar": "Contents",
   "toc_cell": false,
   "toc_position": {},
   "toc_section_display": true,
   "toc_window_display": false
  }
 },
 "nbformat": 4,
 "nbformat_minor": 4
}
