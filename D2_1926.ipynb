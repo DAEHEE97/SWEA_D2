{
 "cells": [
  {
   "cell_type": "markdown",
   "metadata": {},
   "source": [
    "# 1926. 간단한 369게임"
   ]
  },
  {
   "cell_type": "markdown",
   "metadata": {},
   "source": [
    "3 6 9 게임을 프로그램으로 제작중이다. 게임 규칙은 다음과 같다.\n",
    "\n",
    " \n",
    "\n",
    "1. 숫자 1부터 순서대로 차례대로 말하되, “3” “6” “9” 가 들어가 있는 수는 말하지 않는다.\n",
    "\n",
    "  1 2 3 4 5 6 7 8 9…\n",
    "\n",
    "2. \"3\" \"6\" \"9\"가 들어가 있는 수를 말하지 않는대신, 박수를 친다. 이 때, 박수는 해당 숫자가 들어간 개수만큼 쳐야 한다.  \n",
    "예를 들어 숫자 35의 경우 박수 한 번, 숫자 36의 경우 박수를 두번 쳐야 한다.\n",
    " \n",
    "\n",
    "입력으로 정수 N 이 주어졌을 때, 1~N 까지의 숫자를\n",
    "\n",
    "게임 규칙에 맞게 출력하는 프로그램을 작성하라.\n",
    "\n",
    "박수를 치는 부분은 숫자 대신, 박수 횟수에 맞게 “-“ 를 출력한다.\n",
    "\n",
    "여기서 주의해야 할 것은 박수 한 번 칠 때는 - 이며, 박수를 두 번 칠 때는 - - 가 아닌 -- 이다. \n",
    " \n",
    "\n",
    "## [제약사항]\n",
    "\n",
    "N은 10이상 1,000이하의 정수이다. (10 ≤ N ≤ 1,000)\n",
    "\n",
    " \n",
    "\n",
    "## [입력]\n",
    "\n",
    "입력으로 정수 N 이 주어진다.\n",
    "\n",
    "\n",
    "## [출력]\n",
    "\n",
    "1 ~ N까지의 숫자를 게임 규칙에 맞게 출력한다.\n"
   ]
  },
  {
   "cell_type": "markdown",
   "metadata": {},
   "source": [
    "---"
   ]
  },
  {
   "cell_type": "markdown",
   "metadata": {},
   "source": [
    "## MEMO\n",
    "\n",
    "- 숫자 안에 숫자 여부, 개수 확인 : str로 형변환 후 처리\n",
    "\n"
   ]
  },
  {
   "cell_type": "code",
   "execution_count": 1,
   "metadata": {},
   "outputs": [
    {
     "name": "stdout",
     "output_type": "stream",
     "text": [
      "36\n",
      "1 2 - 4 5 - 7 8 - 10 11 12 - 14 15 - 17 18 - 20 21 22 - 24 25 - 27 28 - - - - -- - - -- "
     ]
    }
   ],
   "source": [
    "N = int(input())\n",
    "\n",
    "for i in range(1,N+1):\n",
    "    \n",
    "    if ( str(i).count('3') + str(i).count('6') + str(i).count('9') == 0 ):\n",
    "        print(i,end = ' ')\n",
    "    \n",
    "    else:\n",
    "        print('-'*(str(i).count('3') + str(i).count('6') + str(i).count('9')),end = ' ')\n",
    "    \n",
    "    "
   ]
  },
  {
   "cell_type": "markdown",
   "metadata": {},
   "source": [
    "---"
   ]
  },
  {
   "cell_type": "code",
   "execution_count": 2,
   "metadata": {},
   "outputs": [
    {
     "name": "stdout",
     "output_type": "stream",
     "text": [
      "36\n",
      "1 2 - 4 5 - 7 8 - 10 11 12 - 14 15 - 17 18 - 20 21 22 - 24 25 - 27 28 - - - - -- - - -- "
     ]
    }
   ],
   "source": [
    "N = int(input())\n",
    "\n",
    "lst = [str(i) for i in range(1,N+1)]\n",
    "\n",
    "lst_result = []\n",
    "\n",
    "for i in range(len(lst)):\n",
    "    \n",
    "    if (lst[i].count('3') + lst[i].count('6') + lst[i].count('9')!=0):\n",
    "        \n",
    "        lst_result.append('-'*(lst[i].count('3') + lst[i].count('6') + lst[i].count('9')))\n",
    "        continue\n",
    "    \n",
    "    lst_result.append(int(lst[i]))\n",
    "    \n",
    "    \n",
    "for i in lst_result:\n",
    "    print(i, end = ' ')   "
   ]
  }
 ],
 "metadata": {
  "hide_input": false,
  "kernelspec": {
   "display_name": "Python 3",
   "language": "python",
   "name": "python3"
  },
  "language_info": {
   "codemirror_mode": {
    "name": "ipython",
    "version": 3
   },
   "file_extension": ".py",
   "mimetype": "text/x-python",
   "name": "python",
   "nbconvert_exporter": "python",
   "pygments_lexer": "ipython3",
   "version": "3.8.5"
  },
  "toc": {
   "base_numbering": 1,
   "nav_menu": {},
   "number_sections": true,
   "sideBar": true,
   "skip_h1_title": false,
   "title_cell": "Table of Contents",
   "title_sidebar": "Contents",
   "toc_cell": false,
   "toc_position": {},
   "toc_section_display": true,
   "toc_window_display": false
  }
 },
 "nbformat": 4,
 "nbformat_minor": 4
}
