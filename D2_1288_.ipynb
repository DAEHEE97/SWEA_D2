{
 "cells": [
  {
   "cell_type": "markdown",
   "metadata": {},
   "source": [
    "# 1288. 새로운 불면증 치료법"
   ]
  },
  {
   "cell_type": "markdown",
   "metadata": {},
   "source": [
    "민석이는 불면증에 걸렸다. 그래서 잠이 안 올 때의 민간요법 중 하나인 양 세기를 하려고 한다.\n",
    "\n",
    "민석이는 1번 양부터 순서대로 세는 것이 재미없을 것 같아서 N의 배수 번호인 양을 세기로 하였다.\n",
    "\n",
    "즉, 첫 번째에는 N번 양을 세고, 두 번째에는 2N번 양, … , k번째에는 kN번 양을 센다.\n",
    "\n",
    "이렇게 숫자를 세던 민석이에게 잠은 더 오지 않고 다음과 같은 궁금증이 생겼다.\n",
    "\n",
    "이전에 셌던 번호들의 각 자리수에서 0에서 9까지의 모든 숫자를 보는 것은 최소 몇 번 양을 센 시점일까?\n",
    "\n",
    "예를 들어 N = 1295이라고 하자.\n",
    "\n",
    "첫 번째로 N = 1295번 양을 센다. 현재 본 숫자는 1, 2, 5, 9이다.\n",
    "\n",
    "두 번째로 2N = 2590번 양을 센다. 현재 본 숫자는 0, 2, 5, 9이다.\n",
    "\n",
    "현재까지 본 숫자는 0, 1, 2, 5, 9이다.\n",
    "\n",
    "세 번째로 3N = 3885번 양을 센다. 현재 본 숫자는 3, 5, 8이다.\n",
    "\n",
    "현재까지 본 숫자는 0, 1, 2, 3, 5, 8, 9이다.\n",
    "\n",
    "네 번째로 4N = 5180번 양을 센다. 현재 본 숫자는 0, 1, 5, 8이다.\n",
    "\n",
    "현재까지 본 숫자는 0, 1, 2, 3, 5, 8, 9이다.\n",
    "\n",
    "다섯 번째로 5N = 6475번 양을 센다. 현재 본 숫자는 4, 5, 6, 7이다.\n",
    "\n",
    "현재까지 본 숫자는 0, 1, 2, 3, 4, 5, 6, 7, 8, 9이다.\n",
    "\n",
    "5N번 양을 세면 0에서 9까지 모든 숫자를 보게 되므로 민석이는 양 세기를 멈춘다.\n",
    "\n",
    "## [입력]\n",
    "\n",
    "\n",
    "첫 번째 줄에 테스트 케이스의 수 T가 주어진다.\n",
    "\n",
    "각 테스트 케이스의 첫 번째 줄에는 N (1 ≤ N ≤ 106)이 주어진다.\n",
    "\n",
    "## [출력]\n",
    "\n",
    "\n",
    "각 테스트 케이스마다 ‘#x’(x는 테스트케이스 번호를 의미하며 1부터 시작한다)를 출력하고,\n",
    "\n",
    "최소 몇 번 양을 세었을 때 이전에 봤던 숫자들의 자릿수에서 0에서 9까지의 모든 숫자를 보게 되는지 출력한다.\n",
    "\n",
    "( 민석이는 xN번 양을 세고 있다. )\n",
    "\n"
   ]
  },
  {
   "cell_type": "markdown",
   "metadata": {},
   "source": [
    "---"
   ]
  },
  {
   "cell_type": "markdown",
   "metadata": {},
   "source": [
    "## MEMO\n",
    "\n",
    "1. 체크용 리스트를 set으로 만들어서, 중복을 추가 할 시, 추가 적용 안됨 \n",
    "    - `set().add()`\n",
    "\n",
    "\n",
    "2. 리스트, set 내 존재 여부를 len으로 판단 해서, 안에 모두 있는지 확인 후, break\n",
    "    - `if(len(s)==10): break`\n",
    "    \n",
    "    \n",
    "3. N 2N 3N 검사 > `N = cnt * N` 전에 `N = N // cnt` 로 초기화 해주고 처리해야 함\n",
    "    - 아니면 검사용 N `tmp` 선언 "
   ]
  },
  {
   "cell_type": "markdown",
   "metadata": {},
   "source": [
    "---"
   ]
  },
  {
   "cell_type": "code",
   "execution_count": 1,
   "metadata": {},
   "outputs": [
    {
     "name": "stdout",
     "output_type": "stream",
     "text": [
      "5\n",
      "1\n",
      "#1 10 10\n",
      "2\n",
      "#2 90 45\n",
      "11\n",
      "#3 110 10\n",
      "1295\n",
      "#4 6475 5\n",
      "1692\n",
      "#5 5076 3\n"
     ]
    }
   ],
   "source": [
    "T = int(input())\n",
    "\n",
    "for t in range(T):\n",
    "    \n",
    "    N = int(input())\n",
    "    \n",
    "    cnt = 1\n",
    "    \n",
    "    s = set()\n",
    "    \n",
    "    while(1):\n",
    "        \n",
    "        for i in str(N):\n",
    "            s.add(int(i))\n",
    "        \n",
    "        if(len(s)==10):\n",
    "            break\n",
    "        \n",
    "        N = N // cnt\n",
    "\n",
    "        cnt +=1\n",
    "        \n",
    "        N = N * cnt\n",
    "\n",
    "    print( '#{0} {1} {2}'.format(t+1, N, cnt) ) \n",
    "    \n",
    "        \n",
    "    "
   ]
  },
  {
   "cell_type": "markdown",
   "metadata": {},
   "source": [
    "---"
   ]
  },
  {
   "cell_type": "code",
   "execution_count": 2,
   "metadata": {},
   "outputs": [
    {
     "name": "stdout",
     "output_type": "stream",
     "text": [
      "5\n",
      "1\n",
      "2\n",
      "11\n",
      "1295\n",
      "1692\n",
      "#1 10 3\n",
      "#2 90 3\n",
      "#3 110 3\n",
      "#4 6475 3\n",
      "#5 5076 3\n"
     ]
    }
   ],
   "source": [
    "N = int(input())\n",
    "\n",
    "lst_result = []\n",
    "\n",
    "for i in range(N):\n",
    "    \n",
    "    n = int(input())\n",
    "    \n",
    "    s = set() \n",
    "    \n",
    "    cnt = 1\n",
    "    \n",
    "    while(True):\n",
    "        \n",
    "        for j in str(n): \n",
    "            s.add(j)\n",
    "        if len(s) == 10:\n",
    "            break\n",
    "       \n",
    "        n = n // cnt # N 2N 3N\n",
    "        \n",
    "        cnt += 1     # cnt++\n",
    "    \n",
    "        n = n * cnt  # \n",
    "        \n",
    "\n",
    "    lst_result.append(n)\n",
    "\n",
    "for i in range(N):\n",
    "    print('#{0} {1} {2}'.format(i+1, lst_result[i], cnt))\n"
   ]
  }
 ],
 "metadata": {
  "hide_input": false,
  "kernelspec": {
   "display_name": "Python 3",
   "language": "python",
   "name": "python3"
  },
  "language_info": {
   "codemirror_mode": {
    "name": "ipython",
    "version": 3
   },
   "file_extension": ".py",
   "mimetype": "text/x-python",
   "name": "python",
   "nbconvert_exporter": "python",
   "pygments_lexer": "ipython3",
   "version": "3.8.5"
  },
  "toc": {
   "base_numbering": 1,
   "nav_menu": {},
   "number_sections": true,
   "sideBar": true,
   "skip_h1_title": false,
   "title_cell": "Table of Contents",
   "title_sidebar": "Contents",
   "toc_cell": false,
   "toc_position": {},
   "toc_section_display": true,
   "toc_window_display": false
  }
 },
 "nbformat": 4,
 "nbformat_minor": 4
}
